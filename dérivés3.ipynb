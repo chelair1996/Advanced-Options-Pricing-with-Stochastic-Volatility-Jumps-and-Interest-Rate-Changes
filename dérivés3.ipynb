{
 "cells": [
  {
   "cell_type": "markdown",
   "metadata": {
    "id": "y2T-gS1nKN4n"
   },
   "source": [
    "#**BRIEF**:\n",
    "Our client, \"Mrs Patricia Wang,\" wishes to purchase an OTC option on the company, SM Energy, whose stock is now trading at $232.90 USD:\n",
    "\n",
    "She is also unsure about the level of maturity she wishes to consider when selecting this option.\n",
    "\n",
    "\n",
    "\n",
    "**AVAILABLE:**\n",
    "\n",
    "Information on vanilla options traded in the market, with the\n",
    "underlying asset being the stock of SM in the attached CSV Excel file.\n",
    "\n",
    "**REQUIRED:**\n",
    "\n",
    "1, Calibrate a classic Heston (1993) model (without jumps) to the observed\n",
    "   market prices for both call and put options using the Lewis (2001) approach with a regular MSE error function.\n",
    "\n",
    "2, Double-check the different model parameters resulting from above        calibration repeating the same process above using the Carr-Madan (1999) pricing approach to calibrate the Heston (1993) model.\n",
    "\n",
    "3, Price an ATM Asian call option for the client with 20 days maturity by\n",
    "   obtaining the ‘fair price’ of the instrument using Monte-Carlo methods in a risk-neutral setting. Include a 4% charge fee on the price to obtain the final price that the client will end up paying.\n",
    "\n",
    "4, Repeat the previous Task (1 above) using Carr-Madan (1999) approach to\n",
    "   the Bates (1996) model.\n",
    "\n",
    "5, Price a Put option on firm SM with 70 days maturity and moneyness of\n",
    "   95% (i.e., strike is 95% of the current price).\n",
    "\n",
    "6, Calibrate a CIR (1985) model using current Euribor rates and maturities\n",
    "   using the cubic spline method to interpolate weekly rates for a period of 12 months (1year).\n",
    "\n",
    "7, From the different CIR model parameters obtained in the step above, we\n",
    "   must simulate 12-month daily Euribor rates for a period of 1 year by performing 100,000 Monte-Carlo simulations using a 95% level of confidence to reflect the range (min and max)\n",
    "\n",
    "8, Calculate the expected value of the 12-month Euribor rate in a year's\n",
    "   time, and compare it to the current 12-month Euribor rate to determine pricing implications.\n"
   ]
  },
  {
   "cell_type": "markdown",
   "metadata": {
    "id": "bVKkyXMXefkf"
   },
   "source": [
    "#**INTRODUCTION:**\n",
    "\n",
    "\n",
    "*   The Heston model is a prevalent stochastic volatility model in quantitative finance, designed to overcome a limitation of the Black-Scholes model in option markets by introducing the concept that the volatility of the underlying asset follows a stochastic process, specifically modeled by a square-root diffusion process.\n",
    "\n",
    "*   The above definition reflects the observed volatility smile in option markets, allowing volatility to change dynamically over time.\n",
    "\n",
    "*   The Heston model uses various parameters to predict volatility, including the long-term average volatility (θ), the speed of mean-reversion (κ), the volatility of volatility (σ), the correlation between asset price changes and volatility changes (ρ), and the initial volatility level (V0).\n",
    "\n",
    "*   These parameters help capture the volatility process's tendency to revert to its long-term average over time.\n",
    "\n",
    "*   Despite its limitations, the Heston model offers a closed-form solution for option pricing."
   ]
  },
  {
   "cell_type": "markdown",
   "metadata": {
    "id": "CIhEQFXpJouR"
   },
   "source": [
    "##Step 1(a)\n",
    "\n",
    "We will start this process with importing all necessary libraries."
   ]
  },
  {
   "cell_type": "code",
   "execution_count": null,
   "metadata": {
    "id": "0eIlMC0mtXbt"
   },
   "outputs": [],
   "source": [
    "import numpy as np\n",
    "import pandas as pd\n",
    "import matplotlib.pyplot as plt\n",
    "from scipy.integrate import quad\n",
    "from scipy.optimize import brute, fmin\n",
    "from scipy.optimize import minimize\n",
    "from scipy.interpolate import splev, splrep\n",
    "pd.options.mode.chained_assignment = None"
   ]
  },
  {
   "cell_type": "markdown",
   "metadata": {
    "id": "IbqSmoPeHNmC"
   },
   "source": [
    "##Then Define the early characteristic functions needed:\n",
    "We will first start by deriving the characteristic function of Heston (1993) model by using the closed-form expression of the characteristic function of the H93 given by:\n",
    "\n",
    "$$\n",
    "\\\n",
    "\\begin{equation*}\n",
    "  \\varphi^{H} (u, T) = e^{H_1(u, T)+H_2(u,T)\\nu_0}\n",
    "\\end{equation*}\n",
    "$$\n",
    "\\\n",
    "where\n",
    "\n",
    "$$\n",
    "\\\n",
    "\\begin{equation*}\n",
    "  H_1 (u, T) \\equiv r_0 uiT + \\frac{c_1}{\\sigma_\\nu^2}\\Biggl\\{ (\\kappa_\\nu - \\rho \\sigma_\\nu ui+c_2) T - 2 log \\left[ \\frac{1-c_3e^{c_2T}}{1-c_3} \\right] \\Biggl\\}\n",
    "\\end{equation*}\n",
    "$$\n",
    "$$\n",
    "\\\n",
    "\\begin{equation*}\n",
    "  H_2 (u, T) \\equiv \\frac{\\kappa_\\nu - \\rho \\sigma_\\nu ui + c_2}{\\sigma_\\nu^2} \\left[ \\frac{1-e^{c_2T}}{1-c_3e^{c_2T}} \\right]\n",
    "\\end{equation*}\n",
    "$$\n",
    "$$\n",
    "\\\n",
    "\\begin{equation*}\n",
    "  c_1 \\equiv \\kappa_\\nu \\theta_\\nu\n",
    "\\end{equation*}\n",
    "$$\n",
    "$$\n",
    "\\\n",
    "\\begin{equation*}\n",
    "  c_2 \\equiv - \\sqrt{(\\rho \\sigma_\\nu ui - \\kappa_\\nu)^2 - \\sigma_\\nu^2(-ui-u^2) }\n",
    "\\end{equation*}\n",
    "$$\n",
    "$$\n",
    "\\\n",
    "\\begin{equation*}\n",
    "  c_3 \\equiv \\frac{\\kappa_\\nu - \\rho \\sigma_\\nu ui + c_2}{\\kappa_\\nu - \\rho \\sigma_\\nu ui - c_2}\n",
    "\\end{equation*}\n",
    "$$\n",
    "\n",
    "The derivation and closed-form expression for the characteristic function of the Classic Heston model above can be created with functions in Python that simplifies its calculations every time as seen below as well as for others:"
   ]
  },
  {
   "cell_type": "code",
   "execution_count": null,
   "metadata": {
    "id": "U_wMQPhValNR"
   },
   "outputs": [],
   "source": [
    "# H93 Char Function\n",
    "def H93_char_func(u, T, r, kappa_v, theta_v, sigma_v, rho, v0):\n",
    "    \"\"\"Fourier-based approach: characteristic function of H93 model via Lewis (2001).\"\"\"\n",
    "    c1 = kappa_v * theta_v\n",
    "    c2 = -np.sqrt(\n",
    "        (rho * sigma_v * u * 1j - kappa_v) ** 2 - sigma_v**2 * (-u * 1j - u**2)\n",
    "    )\n",
    "    c3 = (kappa_v - rho * sigma_v * u * 1j + c2) / (\n",
    "        kappa_v - rho * sigma_v * u * 1j - c2\n",
    "    )\n",
    "    H1 = r * u * 1j * T + (c1 / sigma_v**2) * (\n",
    "        (kappa_v - rho * sigma_v * u * 1j + c2) * T\n",
    "        - 2 * np.log((1 - c3 * np.exp(c2 * T)) / (1 - c3))\n",
    "    )\n",
    "    H2 = (\n",
    "        (kappa_v - rho * sigma_v * u * 1j + c2)\n",
    "        / sigma_v**2\n",
    "        * ((1 - np.exp(c2 * T)) / (1 - c3 * np.exp(c2 * T)))\n",
    "    )\n",
    "    char_func_value = np.exp(H1 + H2 * v0)\n",
    "    return char_func_value"
   ]
  },
  {
   "cell_type": "markdown",
   "metadata": {
    "id": "KeRYns6hxTyz"
   },
   "source": [
    "We will also use the opportunity to define other characteristic functions that will be needed going forward. This includes:\n",
    "\n",
    "Merton76\n",
    "\n",
    "Merton76J (with Jump)\n",
    "\n",
    "Bates96"
   ]
  },
  {
   "cell_type": "markdown",
   "metadata": {
    "id": "Mm-SyTuqwMyb"
   },
   "source": [
    "Merton's (1976) characteristic function is given by:\n",
    "\n",
    "$$\n",
    "\\begin{equation*}\n",
    "    \\varphi^{M76}_0 (u, T) = e^{\\left( \\left( i u \\omega - \\frac{u^2 \\sigma^2}{2}+ \\lambda ( e^{i u \\mu_j - u^2 \\delta^2/2}-1) \\right) T \\right)}\n",
    "\\end{equation*}\n",
    "$$\n",
    "\n",
    "where,\n",
    "\n",
    "$$\n",
    "\\begin{equation*}\n",
    "    \\omega = r - \\frac{\\sigma^2}{2} - \\lambda \\left( e^{\\mu_j + \\delta^2/2}-1 \\right)\n",
    "\\end{equation*}\n",
    "$$"
   ]
  },
  {
   "cell_type": "code",
   "execution_count": null,
   "metadata": {
    "id": "PdtzuKnctL1s"
   },
   "outputs": [],
   "source": [
    "# Merton 76 Characteristic function\n",
    "def M76_char_func(u, T, r, sigma, lamb, mu, delta):\n",
    "    \"\"\"\n",
    "    Characteristic function for Merton '76 model\n",
    "    \"\"\"\n",
    "    omega = r - 0.5 * sigma**2 - lamb * (np.exp(mu + 0.5 * delta**2) - 1)\n",
    "    char_func_value = np.exp(\n",
    "        (\n",
    "            1j * u * omega\n",
    "            - 0.5 * u**2 * sigma**2\n",
    "            + lamb * (np.exp(1j * u * mu - u**2 * delta**2 * 0.5) - 1)\n",
    "        )\n",
    "        * T\n",
    "    )\n",
    "    return char_func_value"
   ]
  },
  {
   "cell_type": "markdown",
   "metadata": {
    "id": "q1IcZjmMxIuA"
   },
   "source": [
    "The adjusted (only jump) characteristic function of Merton (1976) is given by:\n",
    "\n",
    "\n",
    "$$\n",
    "\\\n",
    "\\begin{equation*}\n",
    "    \\varphi^{M76J}_0 (u, T) = e^{\\left( \\left( i u \\omega + \\lambda ( e^{i u \\mu_j - u^2 \\delta^2/2}-1) \\right) T \\right)}\n",
    "\\end{equation*}\n",
    "$$\n",
    "\n",
    "where,\n",
    "$$\n",
    "\\\n",
    "\\begin{equation*}\n",
    "    \\omega = - \\lambda \\left( e^{\\mu_j + \\delta^2/2}-1 \\right)\n",
    "\\end{equation*}\n",
    "$$\n",
    "\\\n",
    "Let's then code in this characteristic function:"
   ]
  },
  {
   "cell_type": "code",
   "execution_count": null,
   "metadata": {
    "id": "-l0bW-WgtlRW"
   },
   "outputs": [],
   "source": [
    "# M76J Characteristic Function\n",
    "def M76J_char_func(u, T, lamb, mu, delta):\n",
    "    \"\"\"\n",
    "    Adjusted Characteristic function for Merton '76 model: Only jump component\n",
    "    \"\"\"\n",
    "    omega = -lamb * (np.exp(mu + 0.5 * delta**2) - 1)\n",
    "    char_func_value = np.exp(\n",
    "        (1j * u * omega + lamb * (np.exp(1j * u * mu - u**2 * delta**2 * 0.5) - 1))\n",
    "        * T\n",
    "    )\n",
    "    return char_func_value"
   ]
  },
  {
   "cell_type": "markdown",
   "metadata": {
    "id": "hVXUr77exl5i"
   },
   "source": [
    "We already know that Bates (1996) model combines two desirable features: stochastic volatility of Heston (1993) and jump component from Merton (1976).\n",
    "\n",
    "Thus, as we know, the characteristic function, $\\varphi^{B96}( )$, of Bates (1996) is given by:\n",
    "\n",
    "$$\n",
    "\\\n",
    "\\begin{equation*}\n",
    "        \\varphi^{B96}_0 (u, T) = \\varphi^{H93}_0 \\varphi^{M76J}_0 (u, T)\n",
    "\\end{equation*}\n",
    "$$\n",
    "\n",
    "\\\n",
    "where, $\\varphi^{H93}_0$ stands for the characteristic function of Heston (1993)."
   ]
  },
  {
   "cell_type": "code",
   "execution_count": null,
   "metadata": {
    "id": "IB-9qOzuuBdQ"
   },
   "outputs": [],
   "source": [
    "# B96 Characteristic Function\n",
    "def B96_char_func(u, T, r, kappa_v, theta_v, sigma_v, rho, v0, lamb, mu, delta):\n",
    "    \"\"\"\n",
    "    Bates (1996) characteristic function\n",
    "    \"\"\"\n",
    "    H93 = H93_char_func(u, T, r, kappa_v, theta_v, sigma_v, rho, v0)\n",
    "    M76J = M76J_char_func(u, T, lamb, mu, delta)\n",
    "    return H93 * M76J"
   ]
  },
  {
   "cell_type": "markdown",
   "metadata": {
    "id": "2TqG6z5PXJb1"
   },
   "source": [
    "We also need to obtain a value for the integral in Lewis (2001) for H93:\n",
    "\n",
    "$$\n",
    "\\\n",
    "\\begin{equation*}\n",
    "    C_0 = S_0 - \\frac{\\sqrt{S_0 K} e^{-rT}}{\\pi} \\int_{0}^{\\infty} \\mathbf{Re}[e^{izk} \\varphi(z-i/2)] \\frac{dz}{z^2+1/4}\n",
    "\\end{equation*}\n",
    "$$\n"
   ]
  },
  {
   "cell_type": "code",
   "execution_count": null,
   "metadata": {
    "id": "15ZsWfslSbNJ"
   },
   "outputs": [],
   "source": [
    "# H93 Integral Function\n",
    "def H93_int_func(u, S0, K, T, r, kappa_v, theta_v, sigma_v, rho, v0):\n",
    "    \"\"\"\n",
    "    Fourier-based approach for Lewis (2001): Integration function.\n",
    "    \"\"\"\n",
    "    char_func_value = H93_char_func(\n",
    "        u - 1j * 0.5, T, r, kappa_v, theta_v, sigma_v, rho, v0\n",
    "    )\n",
    "    int_func_value = (\n",
    "        1 / (u**2 + 0.25) * (np.exp(1j * u * np.log(S0 / K)) * char_func_value).real\n",
    "    )\n",
    "    return int_func_value"
   ]
  },
  {
   "cell_type": "markdown",
   "metadata": {
    "id": "KQwdqd8eXlHQ"
   },
   "source": [
    "The value of the aforementioned integral and its call value are then numerically computed using the quadrature method (*quad*) from the scipy package below.\n",
    "\n"
   ]
  },
  {
   "cell_type": "code",
   "execution_count": null,
   "metadata": {
    "id": "sdDP4pizxpAk"
   },
   "outputs": [],
   "source": [
    "def H93_call_value(S0, K, T, r, kappa_v, theta_v, sigma_v, rho, v0):\n",
    "    \"\"\"Valuation of European call option in H93 model via Lewis (2001)\n",
    "\n",
    "    Parameter definition:\n",
    "    ==========\n",
    "    S0: float\n",
    "        initial stock/index level\n",
    "    K: float\n",
    "        strike price\n",
    "    T: float\n",
    "        time-to-maturity (for t=0)\n",
    "    r: float\n",
    "        constant risk-free short rate\n",
    "    kappa_v: float\n",
    "        mean-reversion factor\n",
    "    theta_v: float\n",
    "        long-run mean of variance\n",
    "    sigma_v: float\n",
    "        volatility of variance\n",
    "    rho: float\n",
    "        correlation between variance and stock/index level\n",
    "    v0: float\n",
    "        initial level of variance\n",
    "    Returns\n",
    "    =======\n",
    "    call_value: float\n",
    "        present value of European call option\n",
    "    \"\"\"\n",
    "    int_value = quad(\n",
    "        lambda u: H93_int_func(u, S0, K, T, r, kappa_v, theta_v, sigma_v, rho, v0),\n",
    "        0,\n",
    "        np.inf,\n",
    "        limit=250,\n",
    "    )[0]\n",
    "    call_value = max(0, S0 - np.exp(-r * T) * np.sqrt(S0 * K) / np.pi * int_value)\n",
    "    return call_value"
   ]
  },
  {
   "cell_type": "markdown",
   "metadata": {
    "id": "km_23k585Mjs"
   },
   "source": [
    "As an alternative to Lewis (2001), we could use the FFT algorithm. Essentially, we may apply FFT to the integral in the call option price derived from Carr and Madan (1999):\n",
    "\n",
    "$$\n",
    "\\\n",
    "\\begin{equation*}\n",
    "    C_0 = \\frac{e^{-\\alpha \\kappa}}{\\pi} \\int_{0}^{\\infty} e^{-i\\nu \\kappa} \\frac{e^{-rT} \\varphi^{B96} (\\nu - (\\alpha + 1)i, T)}{\\alpha^2 + \\alpha - \\nu^2 + i(2\\alpha + 1)\\nu} d\\nu\n",
    "\\end{equation*}\n",
    "$$\n",
    "\\\n",
    "As with the Lewis (2001) approach, we must fundamentally modify the characteristic function under consideration to the Bates (1996) function."
   ]
  },
  {
   "cell_type": "code",
   "execution_count": null,
   "metadata": {
    "id": "7_bTl6X8gROI"
   },
   "outputs": [],
   "source": [
    "# Carr & Madan method\n",
    "def H93_call_FFT(S0, K, T, r, kappa_v, theta_v, sigma_v, rho, v0):\n",
    "    \"\"\"\n",
    "    Call option price in Bates (1996) under FFT\n",
    "    \"\"\"\n",
    "    k = np.log(K / S0)\n",
    "    g = 1 # Factor to increase accuracy\n",
    "    N = g * 4096\n",
    "    eps = (g * 150) ** -1\n",
    "    eta = 2 * np.pi / (N * eps)\n",
    "    b = 0.5 * N * eps - k\n",
    "    u = np.arange(1, N + 1, 1)\n",
    "    vo = eta * (u - 1)\n",
    "    # Modifications to ensure integrability\n",
    "    if S0 >= 0.95 * K: # ITM Case\n",
    "        alpha = 1.5\n",
    "        v = vo - (alpha + 1) * 1j\n",
    "        modcharFunc = np.exp(-r * T) * (\n",
    "            H93_char_func(v, T, r, kappa_v, theta_v, sigma_v, rho, v0)\n",
    "            / (alpha**2 + alpha - vo**2 + 1j * (2 * alpha + 1) * vo)\n",
    "        )\n",
    "    else:\n",
    "        alpha = 1.1\n",
    "        v = (vo - 1j * alpha) - 1j\n",
    "        modcharFunc1 = np.exp(-r * T) * (\n",
    "            1 / (1 + 1j * (vo - 1j * alpha))\n",
    "            - np.exp(r * T) / (1j * (vo - 1j * alpha))\n",
    "            - H93_char_func(\n",
    "                v, T, r, kappa_v, theta_v, sigma_v, rho, v0)\n",
    "            / ((vo - 1j * alpha) ** 2 - 1j * (vo - 1j * alpha))\n",
    "        )\n",
    "        v = (vo + 1j * alpha) - 1j\n",
    "        modcharFunc2 = np.exp(-r * T) * (\n",
    "            1 / (1 + 1j * (vo + 1j * alpha))\n",
    "            - np.exp(r * T) / (1j * (vo + 1j * alpha))\n",
    "            - H93_char_func(\n",
    "                v, T, r, kappa_v, theta_v, sigma_v, rho, v0\n",
    "            )\n",
    "            / ((vo + 1j * alpha) ** 2 - 1j * (vo + 1j * alpha))\n",
    "        )\n",
    "    # Numerical FFT Routine\n",
    "    delt = np.zeros(N)\n",
    "    delt[0] = 1\n",
    "    j = np.arange(1, N + 1, 1)\n",
    "    SimpsonW = (3 + (-1) ** j - delt) / 3\n",
    "    if S0 >= 0.95 * K:\n",
    "        FFTFunc = np.exp(1j * b * vo) * modcharFunc * eta * SimpsonW\n",
    "        payoff = (np.fft.fft(FFTFunc)).real\n",
    "        CallValueM = np.exp(-alpha * k) / np.pi * payoff\n",
    "    else:\n",
    "        FFTFunc = (\n",
    "            np.exp(1j * b * vo) * (modcharFunc1 - modcharFunc2) * 0.5 * eta * Sim\n",
    "        )\n",
    "        payoff = (np.fft.fft(FFTFunc)).real\n",
    "        CallValueM = payoff / (np.sinh(alpha * k) * np.pi)\n",
    "    pos = int((k + b) / eps)\n",
    "    CallValue = CallValueM[pos] * S0\n",
    "    return CallValue"
   ]
  },
  {
   "cell_type": "markdown",
   "metadata": {
    "id": "dcLZ2U_oO8jG"
   },
   "source": [
    "We then define the H93 Error Function"
   ]
  },
  {
   "cell_type": "code",
   "execution_count": null,
   "metadata": {
    "id": "FFfiGSFTO9bA"
   },
   "outputs": [],
   "source": [
    "def H93_error_function(p0, method):\n",
    "    \"\"\"Error function for parameter calibration via\n",
    "    Lewis (2001) Fourier approach for Heston (1993).\n",
    "    Parameters\n",
    "    ==========\n",
    "    kappa_v: float\n",
    "        mean-reversion factor\n",
    "    theta_v: float\n",
    "        long-run mean of variance\n",
    "    sigma_v: float\n",
    "        volatility of variance\n",
    "    rho: float\n",
    "        correlation between variance and stock/index level\n",
    "    v0: float\n",
    "        initial, instantaneous variance\n",
    "    Returns\n",
    "    =======\n",
    "    MSE: float\n",
    "        mean squared error\n",
    "    \"\"\"\n",
    "    global i, min_MSE\n",
    "    kappa_v, theta_v, sigma_v, rho, v0 = p0\n",
    "    if kappa_v < 0.0 or theta_v < 0.005 or sigma_v < 0.0 or rho < -1.0 or rho > 1.0:\n",
    "        return 5000.0\n",
    "    if 2 * kappa_v * theta_v < sigma_v**2:\n",
    "        return 5000.0\n",
    "    se = []\n",
    "    for row, option in options.iterrows():\n",
    "        model_value = method(\n",
    "            S0,\n",
    "            option[\"Strike\"],\n",
    "            option[\"T\"],\n",
    "            option[\"r\"],\n",
    "            kappa_v,\n",
    "            theta_v,\n",
    "            sigma_v,\n",
    "            rho,\n",
    "            v0,\n",
    "        )\n",
    "        se.append((model_value - option[\"Call\"]) ** 2)\n",
    "    MSE = sum(se) / len(se)\n",
    "    min_MSE = min(min_MSE, MSE)\n",
    "    if i % 200 == 0:\n",
    "        print(\"%4d |\" % i, np.array(p0), \"| %7.3f | %7.3f\" % (MSE, min_MSE))\n",
    "    i += 1\n",
    "    return MSE"
   ]
  },
  {
   "cell_type": "markdown",
   "metadata": {
    "id": "TSJqama9Paqe"
   },
   "source": [
    "Next, we will need a function that optimizes the model parameters to minimize the error function in relation to market data.\n",
    "\n",
    "We will perform this in two parts, first using the brute function of scipy to focus the calibration on the most sensible ranges, and then using the fmin function to extract the real values more accurately.\n"
   ]
  },
  {
   "cell_type": "code",
   "execution_count": null,
   "metadata": {
    "id": "WuvfNlX1PbcG"
   },
   "outputs": [],
   "source": [
    "def H93_calibration_full(method):\n",
    "    \"\"\"Calibrates Heston (1993) stochastic volatility model to market quotes.\"\"\"\n",
    "    # First run with brute force\n",
    "    # (scan sensible regions, for faster convergence)\n",
    "    p0 = brute(\n",
    "        H93_error_function,\n",
    "        (\n",
    "            (2.5, 10.6, 5.0),  # kappa_v\n",
    "            (0.01, 0.041, 0.01),  # theta_v\n",
    "            (0.05, 0.251, 0.1),  # sigma_v\n",
    "            (-0.75, 0.01, 0.25),  # rho\n",
    "            (0.01, 0.031, 0.01),\n",
    "        ),  # v0\n",
    "        args = {method : method},\n",
    "        finish=None,\n",
    "    )\n",
    "    # Second run with local, convex minimization\n",
    "    # (we dig deeper where promising results)\n",
    "    opt = fmin(\n",
    "        H93_error_function, p0, args = (method,), xtol=0.000001, ftol=0.000001, maxiter=750, maxfun=900\n",
    "    )\n",
    "    return opt"
   ]
  },
  {
   "cell_type": "markdown",
   "metadata": {
    "id": "jsjgI3dxytbJ"
   },
   "source": [
    "Let us now attempt to Price with Heston (1993) via Lewis (2001) by first preparing the data using the downloaded file and other established parameters.\n"
   ]
  },
  {
   "cell_type": "code",
   "execution_count": null,
   "metadata": {
    "id": "YAI0b1X6USRA"
   },
   "outputs": [],
   "source": [
    "data = pd.read_csv(\"/content/SM622_GWP1_Option data.xlsx - 1 (1).csv\")\n",
    "# Get and prepare the data\n",
    "S0 = 232.90\n",
    "T = 15/250\n",
    "r = 0.015\n",
    "def load_calibration_data(E):\n",
    "    temp = data[(data[\"Days to maturity\"] == E) & (data[\"Type\"] == \"C\")]\n",
    "    temp = pd.DataFrame({\n",
    "        \"Strike\" : temp[\"Strike\"],\n",
    "        \"Call\" : temp[\"Price\"],\n",
    "        \"T\" : T,\n",
    "        \"r\" : r\n",
    "        })\n",
    "    return temp"
   ]
  },
  {
   "cell_type": "markdown",
   "metadata": {
    "id": "TH7kl8FckgPU"
   },
   "source": [
    "we confirm columns in the attached data"
   ]
  },
  {
   "cell_type": "code",
   "execution_count": null,
   "metadata": {
    "colab": {
     "base_uri": "https://localhost:8080/"
    },
    "id": "5gPhiaKpYGH3",
    "outputId": "92a9d121-7ac8-448b-b43b-2a93eae1ce66"
   },
   "outputs": [
    {
     "name": "stdout",
     "output_type": "stream",
     "text": [
      "Index(['Days to maturity', 'Strike', 'Price', 'Type'], dtype='object')\n"
     ]
    }
   ],
   "source": [
    "print(data.columns)"
   ]
  },
  {
   "cell_type": "markdown",
   "metadata": {
    "id": "J-RAwOLRVFpR"
   },
   "source": [
    "Step 1.(a) Heston Model using Lewis integral\n",
    "\n",
    "We start our calibration process by introducing some more functions to optimize our model parameters such that they match observed market data.\n",
    "\n",
    "The **mean squared error (MSE) function** will then be introduced, which evaluates the model's error with regard to observed data given specified parameters.\n"
   ]
  },
  {
   "cell_type": "code",
   "execution_count": null,
   "metadata": {
    "colab": {
     "base_uri": "https://localhost:8080/"
    },
    "id": "CBNebwx9VGMx",
    "outputId": "f0167dd2-b031-4cb4-8b49-1bd130b60e2f"
   },
   "outputs": [
    {
     "name": "stdout",
     "output_type": "stream",
     "text": [
      "   0 | [ 2.5   0.01  0.05 -0.75  0.01] |  23.560 |  23.560\n",
      " 200 | [ 7.5   0.02  0.25 -0.25  0.03] |  12.271 |  11.079\n",
      " 400 | [3.46731727 0.12439635 0.00694602 0.65657947 0.10353287] |   0.379 |   0.379\n"
     ]
    },
    {
     "name": "stderr",
     "output_type": "stream",
     "text": [
      "<ipython-input-7-277e0d7e46d1>:29: IntegrationWarning: The occurrence of roundoff error is detected, which prevents \n",
      "  the requested tolerance from being achieved.  The error may be \n",
      "  underestimated.\n",
      "  int_value = quad(\n"
     ]
    },
    {
     "name": "stdout",
     "output_type": "stream",
     "text": [
      " 600 | [3.04732415e+00 1.24756712e-01 4.10885546e-06 6.15621511e-01\n",
      " 1.03350235e-01] |   0.378 |   0.378\n",
      " 800 | [3.04732414e+00 1.24756711e-01 4.10870537e-06 6.15621485e-01\n",
      " 1.03350234e-01] |   0.378 |   0.378\n",
      "Optimization terminated successfully.\n",
      "         Current function value: 0.377528\n",
      "         Iterations: 281\n",
      "         Function evaluations: 647\n",
      "Parameters using Lewis method 3.047 0.125 0.000 0.616 0.103 \n"
     ]
    }
   ],
   "source": [
    "i = 0\n",
    "min_MSE = 5000\n",
    "options = load_calibration_data(15)\n",
    "diff_H_params_lewis = H93_calibration_full(H93_call_value)\n",
    "print(\"Parameters using Lewis method %0.3f %0.3f %0.3f %0.3f %0.3f \" %\n",
    "        tuple(diff_H_params_lewis)\n",
    "    )"
   ]
  },
  {
   "cell_type": "markdown",
   "metadata": {
    "id": "2j0B2is0dRuh"
   },
   "source": [
    "Now we have finally calibrated our parameters to market values.\n",
    "\n",
    "The results from this calibration give us the following values for the parameters in the Heston (1993) model:\n",
    "\n",
    "$\\kappa_\\nu = 3.047$\n",
    "\n",
    "$\\theta_\\nu = 0.125$\n",
    "\n",
    "$\\sigma_\\nu = 0.000$\n",
    "\n",
    "$\\rho = 0.616$\n",
    "\n",
    "$\\nu_0 = 0.103$\n",
    "\n",
    "The next step will be simply using these parameters to price the option we want."
   ]
  },
  {
   "cell_type": "markdown",
   "metadata": {
    "id": "S-flLs56eCv9"
   },
   "source": [
    "We then define the H93 function that calculates values under full model calibration:"
   ]
  },
  {
   "cell_type": "code",
   "execution_count": null,
   "metadata": {
    "id": "zI8_t8_GeF5u"
   },
   "outputs": [],
   "source": [
    "def H93_calculate_model_values(p0, method):\n",
    "    kappa_v, theta_v, sigma_v, rho, v0= p0\n",
    "    values = []\n",
    "    for row, option in options.iterrows():\n",
    "        model_value = method(\n",
    "            S0,\n",
    "            option[\"Strike\"],\n",
    "            option[\"T\"],\n",
    "            r,\n",
    "            kappa_v,\n",
    "            theta_v,\n",
    "            sigma_v,\n",
    "            rho,\n",
    "            v0,\n",
    "        )\n",
    "        values.append(model_value)\n",
    "    return np.array(values)"
   ]
  },
  {
   "cell_type": "markdown",
   "metadata": {
    "id": "_1yEGcn4t1oh"
   },
   "source": [
    "We examine the differences produced by our model using the calibration parameters and compare them to observed market prices:\n"
   ]
  },
  {
   "cell_type": "code",
   "execution_count": null,
   "metadata": {
    "id": "dzo6ZxALeRbb"
   },
   "outputs": [],
   "source": [
    "def plot_full_calibration_results(p0, method):\n",
    "    options[\"Model\"] = H93_calculate_model_values(p0, method)\n",
    "    plt.figure(figsize=(8, 6))\n",
    "    plt.subplot(211)\n",
    "    plt.grid()\n",
    "    plt.title(\"Maturity %s Days\" % str(int(options[\"T\"].iloc[0]*250))[:10])\n",
    "    plt.ylabel(\"option values\")\n",
    "    plt.plot(options.Strike, options.Call, \"b\", label=\"market\")\n",
    "    plt.plot(options.Strike, options.Model, \"ro\", label=\"model\")\n",
    "    plt.legend(loc=0)\n",
    "    plt.axis(\n",
    "        [\n",
    "            min(options.Strike) - 5,\n",
    "            max(options.Strike) + 5,\n",
    "            min(options.Call) - 10,\n",
    "            max(options.Call) + 10,\n",
    "        ]\n",
    "    )\n",
    "    plt.subplot(212)\n",
    "    plt.xlabel(\"Strike\")\n",
    "    plt.grid()\n",
    "    wi = 2\n",
    "    diffs = options.Model.values - options.Call.values\n",
    "    plt.bar(options.Strike.values - wi / 2, diffs, width=wi)\n",
    "    plt.ylabel(\"difference\")\n",
    "    plt.axis(\n",
    "        [\n",
    "            min(options.Strike) - 5,\n",
    "            max(options.Strike) + 5,\n",
    "            min(diffs) * 1.1,\n",
    "            max(diffs) * 1.1,\n",
    "        ]\n",
    "    )\n",
    "    plt.tight_layout()"
   ]
  },
  {
   "cell_type": "markdown",
   "metadata": {
    "id": "FqqUU-Q9uOjO"
   },
   "source": [
    "As you can see, the model perform better in terms of fitting the observed option market prices after the full calibration process."
   ]
  },
  {
   "cell_type": "code",
   "execution_count": null,
   "metadata": {
    "colab": {
     "base_uri": "https://localhost:8080/",
     "height": 696
    },
    "id": "-UdkfaNzef3L",
    "outputId": "37fb82fd-9dce-4667-c76f-6d16fab4ea6d"
   },
   "outputs": [
    {
     "name": "stderr",
     "output_type": "stream",
     "text": [
      "<ipython-input-7-277e0d7e46d1>:29: IntegrationWarning: The occurrence of roundoff error is detected, which prevents \n",
      "  the requested tolerance from being achieved.  The error may be \n",
      "  underestimated.\n",
      "  int_value = quad(\n"
     ]
    },
    {
     "data": {
      "image/png": "[encoded data removed]",
      "text/plain": [
       "<Figure size 800x600 with 2 Axes>"
      ]
     },
     "metadata": {},
     "output_type": "display_data"
    }
   ],
   "source": [
    "plot_full_calibration_results(diff_H_params_lewis, H93_call_value)"
   ]
  },
  {
   "cell_type": "markdown",
   "metadata": {
    "id": "sZWGHNAWuA8y"
   },
   "source": [
    "From all what we have done , we have shown how the Lewis 2001 method aids the calculation of the price of the option as shown on the graph above.\n",
    "\n",
    "To calibrate the parameters gotten above, we applied the brute method with the possible range of the parameters and then refined our search to precision using the initial values. Since we would also like to price an ATM put option with 15 days  maturity, we used the price of the option with similar Maturity and Strike.\n",
    "\n",
    "\n"
   ]
  },
  {
   "cell_type": "markdown",
   "metadata": {
    "id": "syLBeyojgA-w"
   },
   "source": [
    "##Step 1.(b) Heston model Carr and Madan FFT method.\n"
   ]
  },
  {
   "cell_type": "markdown",
   "metadata": {
    "id": "QpTEsg-Izn4b"
   },
   "source": [
    "As an alternative to Lewis (2001), we could also implement the FFT algorithm. Essentially, we can apply FFT to the integral in the call option price derived by Carr and Madan (1999):\n",
    "$$\n",
    "\\\n",
    "\\begin{equation*}\n",
    "    C_0 = \\frac{e^{-\\alpha \\kappa}}{\\pi} \\int_{0}^{\\infty} e^{-i\\nu \\kappa} \\frac{e^{-rT} \\varphi^{B96} (\\nu - (\\alpha + 1)i, T)}{\\alpha^2 + \\alpha - \\nu^2 + i(2\\alpha + 1)\\nu} d\\nu\n",
    "\\end{equation*}\n",
    "$$\n",
    "\\\n",
    "Here we are going to use the same numerical routine we implemented in Module 1; please go there for more information. As was the case with the Lewis (2001) approach, we basically have to adapt the characteristic function we are considering to be the Bates (1996) one."
   ]
  },
  {
   "cell_type": "code",
   "execution_count": null,
   "metadata": {
    "colab": {
     "base_uri": "https://localhost:8080/"
    },
    "id": "BCPbrVho3TWX",
    "outputId": "001051e9-2941-4d8a-9d03-3b46edad79a9"
   },
   "outputs": [
    {
     "name": "stdout",
     "output_type": "stream",
     "text": [
      "   0 | [ 2.5   0.01  0.05 -0.75  0.01] |  23.560 |  23.560\n",
      " 200 | [ 7.5   0.02  0.25 -0.25  0.03] |  12.271 |  11.079\n",
      " 400 | [3.46731727 0.12439635 0.00694602 0.65657947 0.10353287] |   0.379 |   0.379\n",
      " 600 | [3.04956975e+00 1.24757951e-01 2.01570798e-07 6.14219841e-01\n",
      " 1.03338331e-01] |   0.377 |   0.377\n",
      " 800 | [3.04956998e+00 1.24757954e-01 2.01671261e-07 6.14219790e-01\n",
      " 1.03338332e-01] |   0.377 |   0.376\n",
      "Optimization terminated successfully.\n",
      "         Current function value: 0.376370\n",
      "         Iterations: 300\n",
      "         Function evaluations: 692\n",
      "\n",
      "\n",
      "\n",
      "*****************************************\n",
      "Parameters using Carrr & Madan method 3.050 0.125 0.000 0.614 0.103 \n",
      "\n",
      "\n",
      "\n"
     ]
    }
   ],
   "source": [
    "i = 0\n",
    "min_MSE = 5000.00\n",
    "diff_H_params_fft = H93_calibration_full(H93_call_FFT)\n",
    "print(\"\\n\\n\")\n",
    "print(\"*****************************************\")\n",
    "print(\"Parameters using Carrr & Madan method %0.3f %0.3f %0.3f %0.3f %0.3f \" % tuple (diff_H_params_fft))\n",
    "print(\"\\n\\n\")"
   ]
  },
  {
   "cell_type": "markdown",
   "metadata": {
    "id": "w8zfs9T27SJO"
   },
   "source": [
    "Now we have finally calibrated our parameters to market values using the Carrr and Madan method 1999.\n",
    "\n",
    "The results from this calibration give us almost the exact same values in some parameters earlier obtained using the Lewis 2001 method. The following values for the parameters using Carr & Madan method pricing approach to calibrate the Heston (1993)\n",
    "model:\n",
    "\n",
    "$\\kappa_\\nu = 3.050$\n",
    "\n",
    "$\\theta_\\nu = 0.125$\n",
    "\n",
    "$\\sigma_\\nu = 0.000$\n",
    "\n",
    "$\\rho = 0.614$\n",
    "\n",
    "$\\nu_0 = 0.103$"
   ]
  },
  {
   "cell_type": "code",
   "execution_count": null,
   "metadata": {
    "colab": {
     "base_uri": "https://localhost:8080/",
     "height": 748
    },
    "id": "kh05lqKo743B",
    "outputId": "f233d282-f9c3-41f9-b347-3b1bba230731"
   },
   "outputs": [
    {
     "name": "stderr",
     "output_type": "stream",
     "text": [
      "<ipython-input-7-277e0d7e46d1>:29: IntegrationWarning: The maximum number of subdivisions (250) has been achieved.\n",
      "  If increasing the limit yields no improvement it is advised to analyze \n",
      "  the integrand in order to determine the difficulties.  If the position of a \n",
      "  local difficulty can be determined (singularity, discontinuity) one will \n",
      "  probably gain from splitting up the interval and calling the integrator \n",
      "  on the subranges.  Perhaps a special-purpose integrator should be used.\n",
      "  int_value = quad(\n"
     ]
    },
    {
     "data": {
      "image/png": "[encoded data removed]",
      "text/plain": [
       "<Figure size 800x600 with 2 Axes>"
      ]
     },
     "metadata": {},
     "output_type": "display_data"
    }
   ],
   "source": [
    "plot_full_calibration_results(diff_H_params_fft , H93_call_value)"
   ]
  },
  {
   "cell_type": "markdown",
   "metadata": {
    "id": "qHQ4Toa99z9O"
   },
   "source": [
    "###Step 1.(c) Asian option pricing using Heston Model\n"
   ]
  },
  {
   "cell_type": "markdown",
   "metadata": {
    "id": "9JlYus3Jih1y"
   },
   "source": [
    "We will price the ATM Asian call option for the client using 20 days maturity by obtaining the ‘fair price’ of the instrument using Heston Monte-Carlo methods in a\n",
    "risk-neutral setting with enough simulations in\n",
    "Monte-Carlo.\n",
    "\n",
    "We will be first replicating the code on how to simulate underlying stock prices under the following Heston dynamics:\n",
    "$$\n",
    "\\begin{equation*}\n",
    "    S_t = S_{t-1} e^{\\left( r - \\frac{\\nu_t}{2} \\right) dt + \\sigma \\sqrt{\\nu_t} dZ_1}\n",
    "\\end{equation*}\n",
    "$$\n",
    "$$\n",
    "\\begin{equation*}\n",
    "    \\nu_t = \\nu_{t-1} + \\kappa \\left( \\theta - \\nu_{t-1} \\right) dt + \\sigma \\sqrt{\\nu_{t-1}}dZ_2\n",
    "\\end{equation*}\n",
    "$$\n",
    "\n",
    "\n",
    "First we will define and run the different functions we needed to simulate stock prices by stochastic volatility:"
   ]
  },
  {
   "cell_type": "code",
   "execution_count": null,
   "metadata": {
    "id": "2hcQvW5H88TR"
   },
   "outputs": [],
   "source": [
    "def SDE_vol(v0, kappa, theta, sigma, T, M, Ite, rand, row, cho_matrix):\n",
    "    dt = T / M  # T = maturity, M = number of time steps\n",
    "    v = np.zeros((M + 1, Ite), dtype=np.float32)\n",
    "    v[0] = v0\n",
    "    sdt = np.sqrt(dt)  # Sqrt of dt\n",
    "    for t in range(1, M + 1):\n",
    "        ran = np.dot(cho_matrix, rand[:, t])\n",
    "        v[t] = np.maximum(\n",
    "            0,\n",
    "            v[t - 1]\n",
    "            + kappa * (theta - v[t - 1]) * dt\n",
    "            + np.sqrt(v[t - 1]) * sigma * ran[row] * sdt,\n",
    "        )\n",
    "    return v"
   ]
  },
  {
   "cell_type": "markdown",
   "metadata": {
    "id": "Hu4B5RQmICw4"
   },
   "source": [
    "Then the underlying stock price path based on stochastic vol:"
   ]
  },
  {
   "cell_type": "code",
   "execution_count": null,
   "metadata": {
    "id": "IchrIEuqB_4P"
   },
   "outputs": [],
   "source": [
    "def Heston_paths(S0, r, v, row, cho_matrix, rand, M, dt, Ite):\n",
    "    S = np.zeros((M + 1, Ite), dtype=np.float32)\n",
    "    S[0] = S0\n",
    "    sdt = np.sqrt(dt)\n",
    "    for t in range(1, M + 1, 1):\n",
    "        ran = np.dot(cho_matrix, rand[:, t])\n",
    "        S[t] = S[t - 1] * np.exp((r - 0.5 * v[t]) * dt + np.sqrt(v[t]) * ran[row] * sdt)\n",
    "    return S\n"
   ]
  },
  {
   "cell_type": "markdown",
   "metadata": {
    "id": "UiTTnq7AIXg_"
   },
   "source": [
    "We then define the function to generate random numbers following a standard normal:"
   ]
  },
  {
   "cell_type": "code",
   "execution_count": null,
   "metadata": {
    "id": "MCJtq5-a92S_"
   },
   "outputs": [],
   "source": [
    "def random_number_gen(M, Ite):\n",
    "    rand = np.random.standard_normal((2, M + 1, Ite))\n",
    "    return rand"
   ]
  },
  {
   "cell_type": "markdown",
   "metadata": {
    "id": "ml_ZgcFuIsG0"
   },
   "source": [
    "And build our covariance matrix (using Cholesky decomposition to account for correlation between  𝑑𝑍1\n",
    "and  𝑑𝑍2) and simulate the stock price paths and stochastic volatility:"
   ]
  },
  {
   "cell_type": "code",
   "execution_count": null,
   "metadata": {
    "colab": {
     "base_uri": "https://localhost:8080/"
    },
    "id": "NzhbZXQKFYRu",
    "outputId": "b1ff55dd-ae1e-4fc7-a146-c983fe383af8"
   },
   "outputs": [
    {
     "name": "stdout",
     "output_type": "stream",
     "text": [
      "The put price is $4.77\n",
      "With 4% service charge, the price is $4.96\n"
     ]
    }
   ],
   "source": [
    "def asian_opt_call(S0, K, r, T, params):\n",
    "    kappa_v , theta_v, sigma_v, rho, v0 = tuple(params)\n",
    "    M0 = 250 # Number of time steps in a year\n",
    "    T = T/M0\n",
    "    M = int(M0 * T) # Total time steps\n",
    "    Ite = 10**5 # Number of simulations\n",
    "    dt = T / M # Length of time step\n",
    "    # Generating random numbers from standard normal\n",
    "    rand = random_number_gen(M, Ite)\n",
    "    # Covariance Matrix\n",
    "    covariance_matrix = np.zeros((2, 2), dtype=np.float32)\n",
    "    covariance_matrix[0] = [1.0, rho]\n",
    "    covariance_matrix[1] = [rho, 1.0]\n",
    "    cho_matrix = np.linalg.cholesky(covariance_matrix)\n",
    "    # Volatility process paths\n",
    "    V = SDE_vol(v0, kappa_v, theta_v, sigma_v, T, M, Ite, rand, 1, cho_matrix)\n",
    "    # Underlying price process path\n",
    "    S = Heston_paths(S0, r, V, 0, cho_matrix, rand, M, dt, Ite)\n",
    "    # call_asian = np.maximum(S.mean(axis=0) - K, 0).mean()\n",
    "    put_asian = np.maximum(-S.mean(axis=0) + K, 0).mean()\n",
    "    return put_asian\n",
    "put = asian_opt_call(S0, S0, r, 20, diff_H_params_fft)\n",
    "print(\"The put price is $%.2f\"%put)\n",
    "print(\"With 4%% service charge, the price is $%.2f\"% (put*1.04))\n"
   ]
  },
  {
   "cell_type": "markdown",
   "metadata": {
    "id": "Akf-feuvMvww"
   },
   "source": [
    "##Step 2\n",
    "\n",
    "Since the client seems hesitant about the short maturity considered in step 1, we will examine her thoughts of an instrument with 60 days maturity and see if it would be better adapted to her needs."
   ]
  },
  {
   "cell_type": "markdown",
   "metadata": {
    "id": "SvTLvm9pL3BT"
   },
   "source": [
    "Let's start by setting calibration parameters and defining the error function, which obviously will be looking at the differences between market and model prices for the complete Bates (1996) model:"
   ]
  },
  {
   "cell_type": "code",
   "execution_count": null,
   "metadata": {
    "id": "MVqgrncNMETf"
   },
   "outputs": [],
   "source": [
    "i = 0\n",
    "min_MSE = 5000.0\n",
    "local_opt = False"
   ]
  },
  {
   "cell_type": "markdown",
   "metadata": {
    "id": "FYcg7RtZ07kR"
   },
   "source": [
    "We already know that Bates (1996) model combines two desirable features: stochastic volatility of Heston (1993) and jump component from Merton (1976).\n",
    "\n",
    "Thus, as we know, the characteristic function, $\\varphi^{B96}( )$, of Bates (1996) is given by:\n",
    "\n",
    "$$\n",
    "\\\n",
    "\\begin{equation*}\n",
    "        \\varphi^{B96}_0 (u, T) = \\varphi^{H93}_0 \\varphi^{M76J}_0 (u, T)\n",
    "\\end{equation*}\n",
    "$$\n",
    "\n",
    "\\\n",
    "As we also know, $\\varphi^{H93}_0$ stands for the characteristic function of Heston (1993)."
   ]
  },
  {
   "cell_type": "code",
   "execution_count": null,
   "metadata": {
    "id": "q5b2ddLQ0O81"
   },
   "outputs": [],
   "source": [
    "def B96_char_func(u, T, r, kappa_v, theta_v, sigma_v, rho, v0, lamb, mu, delta):\n",
    "    \"\"\"\n",
    "    Bates (1996) characteristic function\n",
    "    \"\"\"\n",
    "    H93 = H93_char_func(u, T, r, kappa_v, theta_v, sigma_v, rho, v0)\n",
    "    M76J = M76J_char_func(u, T, lamb, mu, delta)\n",
    "    return H93 * M76J"
   ]
  },
  {
   "cell_type": "markdown",
   "metadata": {
    "id": "BE9kY3ZjwHiG"
   },
   "source": [
    "We will start by calculating the value of the Lewis (2001) integral for the specific case of the Bates (1996) characteristic function:"
   ]
  },
  {
   "cell_type": "code",
   "execution_count": null,
   "metadata": {
    "id": "lAEfaq2WzzsS"
   },
   "outputs": [],
   "source": [
    "def B96_int_func(u, S0, K, T, r, kappa_v, theta_v, sigma_v, rho, v0, lamb, mu, delta):\n",
    "    \"\"\"\n",
    "    Lewis (2001) integral value for Bates (1996) characteristic function\n",
    "    \"\"\"\n",
    "    char_func_value = B96_char_func(\n",
    "        u - 1j * 0.5, T, r, kappa_v, theta_v, sigma_v, rho, v0, lamb, mu, delta\n",
    "    )\n",
    "    int_func_value = (\n",
    "        1 / (u**2 + 0.25) * (np.exp(1j * u * np.log(S0 / K)) * char_func_value).real\n",
    "    )\n",
    "    return int_func_value"
   ]
  },
  {
   "cell_type": "markdown",
   "metadata": {
    "id": "jrt5Wv1mTDI4"
   },
   "source": [
    "###Now, for this error function to be able to compute model option prices, we also need to import or load the different functions used in the pricing via Bates (1996) model. First, for the value of the option:"
   ]
  },
  {
   "cell_type": "code",
   "execution_count": null,
   "metadata": {
    "id": "miMNzrssS4yy"
   },
   "outputs": [],
   "source": [
    "def B96_call_value(S0, K, T, r, kappa_v, theta_v, sigma_v, rho, v0, lamb, mu, delta):\n",
    "    \"\"\"\n",
    "    Valuation of European call option in B96 Model via Lewis (2001)\n",
    "    Parameters:\n",
    "    ==========\n",
    "    S0: float\n",
    "        initial stock/index level\n",
    "    K: float\n",
    "        strike price\n",
    "    T: float\n",
    "        time-to-maturity (for t=0)\n",
    "    r: float\n",
    "        constant risk-free short rate\n",
    "    kappa_v: float\n",
    "        mean-reversion factor\n",
    "    theta_v: float\n",
    "        long-run mean of variance\n",
    "    sigma_v: float\n",
    "        volatility of variance\n",
    "    rho: float\n",
    "        correlation between variance and stock/index level\n",
    "    v0: float\n",
    "        initial level of variance\n",
    "    lamb: float\n",
    "        jump intensity\n",
    "    mu: float\n",
    "        expected jump size\n",
    "    delta: float\n",
    "        standard deviation of jump\n",
    "    ==========\n",
    "    \"\"\"\n",
    "    int_value = quad(\n",
    "        lambda u: B96_int_func(\n",
    "            u, S0, K, T, r, kappa_v, theta_v, sigma_v, rho, v0, lamb, mu, delta\n",
    "        ),\n",
    "        0,\n",
    "        np.inf,\n",
    "        limit=250,\n",
    "    )[0]\n",
    "    call_value = max(0, S0 - np.exp(-r * T) * np.sqrt(S0 * K) / np.pi * int_value)\n",
    "    return call_value"
   ]
  },
  {
   "cell_type": "markdown",
   "metadata": {
    "id": "gLab7ujYmpfr"
   },
   "source": [
    "As an alternative to Lewis (2001) method, we could also implement the FFT algorithm to the integral in the call option price derived by Carr and Madan (1999):\n",
    "$$\n",
    "\\\n",
    "\\begin{equation*}\n",
    "    C_0 = \\frac{e^{-\\alpha \\kappa}}{\\pi} \\int_{0}^{\\infty} e^{-i\\nu \\kappa} \\frac{e^{-rT} \\varphi^{B96} (\\nu - (\\alpha + 1)i, T)}{\\alpha^2 + \\alpha - \\nu^2 + i(2\\alpha + 1)\\nu} d\\nu\n",
    "\\end{equation*}\n",
    "$$\n",
    "\\\n",
    "We use the same numerical routine above to adapt the characteristic function we are considering to be the Bates (1996) one."
   ]
  },
  {
   "cell_type": "code",
   "execution_count": null,
   "metadata": {
    "id": "ct5-IMLkmpDo"
   },
   "outputs": [],
   "source": [
    "def B96_call_FFT(S0, K, T, r, kappa_v, theta_v, sigma_v, rho, v0, lamb, mu, delta):\n",
    "    \"\"\"\n",
    "    Call option price in Bates (1996) under FFT\n",
    "    \"\"\"\n",
    "\n",
    "    k = np.log(K / S0)\n",
    "    g = 1  # Factor to increase accuracy\n",
    "    N = g * 4096\n",
    "    eps = (g * 150) ** -1\n",
    "    eta = 2 * np.pi / (N * eps)\n",
    "    b = 0.5 * N * eps - k\n",
    "    u = np.arange(1, N + 1, 1)\n",
    "    vo = eta * (u - 1)\n",
    "\n",
    "    # Modifications to ensure integrability\n",
    "    if S0 >= 0.95 * K:  # ITM Case\n",
    "        alpha = 1.5\n",
    "        v = vo - (alpha + 1) * 1j\n",
    "        modcharFunc = np.exp(-r * T) * (\n",
    "            B96_char_func(v, T, r, kappa_v, theta_v, sigma_v, rho, v0, lamb, mu, delta)\n",
    "            / (alpha**2 + alpha - vo**2 + 1j * (2 * alpha + 1) * vo)\n",
    "        )\n",
    "\n",
    "    else:\n",
    "        alpha = 1.1\n",
    "        v = (vo - 1j * alpha) - 1j\n",
    "        modcharFunc1 = np.exp(-r * T) * (\n",
    "            1 / (1 + 1j * (vo - 1j * alpha))\n",
    "            - np.exp(r * T) / (1j * (vo - 1j * alpha))\n",
    "            - B96_char_func(\n",
    "                v, T, r, kappa_v, theta_v, sigma_v, rho, v0, lamb, mu, delta\n",
    "            )\n",
    "            / ((vo - 1j * alpha) ** 2 - 1j * (vo - 1j * alpha))\n",
    "        )\n",
    "\n",
    "        v = (vo + 1j * alpha) - 1j\n",
    "\n",
    "        modcharFunc2 = np.exp(-r * T) * (\n",
    "            1 / (1 + 1j * (vo + 1j * alpha))\n",
    "            - np.exp(r * T) / (1j * (vo + 1j * alpha))\n",
    "            - B96_char_func(\n",
    "                v, T, r, kappa_v, theta_v, sigma_v, rho, v0, lamb, mu, delta\n",
    "            )\n",
    "            / ((vo + 1j * alpha) ** 2 - 1j * (vo + 1j * alpha))\n",
    "        )\n",
    "\n",
    "    # Numerical FFT Routine\n",
    "    delt = np.zeros(N)\n",
    "    delt[0] = 1\n",
    "    j = np.arange(1, N + 1, 1)\n",
    "    SimpsonW = (3 + (-1) ** j - delt) / 3\n",
    "    if S0 >= 0.95 * K:\n",
    "        FFTFunc = np.exp(1j * b * vo) * modcharFunc * eta * SimpsonW\n",
    "        payoff = (np.fft.fft(FFTFunc)).real\n",
    "        CallValueM = np.exp(-alpha * k) / np.pi * payoff\n",
    "    else:\n",
    "        FFTFunc = (\n",
    "            np.exp(1j * b * vo) * (modcharFunc1 - modcharFunc2) * 0.5 * eta * SimpsonW\n",
    "        )\n",
    "        payoff = (np.fft.fft(FFTFunc)).real\n",
    "        CallValueM = payoff / (np.sinh(alpha * k) * np.pi)\n",
    "\n",
    "    pos = int((k + b) / eps)\n",
    "    CallValue = CallValueM[pos] * S0\n",
    "\n",
    "    return CallValue"
   ]
  },
  {
   "cell_type": "code",
   "execution_count": null,
   "metadata": {
    "id": "9BWPaGzyOcFU"
   },
   "outputs": [],
   "source": [
    "def B96_error_function(p0, method):\n",
    "    \"\"\"\n",
    "    Error function for Bates (1996) model\n",
    "\n",
    "    Parameters:\n",
    "    -------------\n",
    "    lamb: float\n",
    "        jump intensity\n",
    "    mu: float\n",
    "        expected jump size\n",
    "    delta: float\n",
    "        standard deviation of jump\n",
    "    Returns\n",
    "    -------------\n",
    "    MSE: float\n",
    "        mean squared error\n",
    "    \"\"\"\n",
    "\n",
    "    global i, min_MSE, local_opt, opt1\n",
    "    lamb, mu, delta = p0\n",
    "    if lamb < 0.0 or mu < -0.6 or mu > 0.0 or delta < 0.0:\n",
    "        return 5000.0\n",
    "    se = []\n",
    "    for row, option in options.iterrows():\n",
    "        model_value = method(\n",
    "            S0,\n",
    "            option[\"Strike\"],\n",
    "            option[\"T\"],\n",
    "            option[\"r\"],\n",
    "            kappa_v,\n",
    "            theta_v,\n",
    "            sigma_v,\n",
    "            rho,\n",
    "            v0,\n",
    "            lamb,\n",
    "            mu,\n",
    "            delta,\n",
    "        )\n",
    "        se.append((model_value - option[\"Call\"]) ** 2)\n",
    "    MSE = sum(se) / len(se)\n",
    "    min_MSE = min(min_MSE, MSE)\n",
    "    if i % 200 == 0:\n",
    "        print(\"%4d |\" % i, np.array(p0), \"| %7.3f | %7.3f\" % (MSE, min_MSE))\n",
    "    i += 1\n",
    "    if local_opt:\n",
    "        penalty = np.sqrt(np.sum((p0 - opt1) ** 2)) * 1\n",
    "        return MSE + penalty\n",
    "    return MSE"
   ]
  },
  {
   "cell_type": "markdown",
   "metadata": {
    "id": "zilbNhT7f-3I"
   },
   "source": [
    "We then build up a B96_full_error_function that essentially takes these inputs and calculate the error function where we do not impose any penalties on the error function, as it solves an inherent problem of the jump diffusion model that should be already solved by using the initial inputs from the jump component calibration."
   ]
  },
  {
   "cell_type": "code",
   "execution_count": null,
   "metadata": {
    "id": "FKc9nTuvPIx4"
   },
   "outputs": [],
   "source": [
    "def B96_full_error_function(p0, method):\n",
    "    global i, min_MSE\n",
    "    kappa_v, theta_v, sigma_v, rho, v0, lamb, mu, delta = p0\n",
    "\n",
    "    if (\n",
    "        kappa_v < 0.0\n",
    "        or theta_v < 0.005\n",
    "        or sigma_v < 0.0\n",
    "        or rho < -1.0\n",
    "        or rho > 1.0\n",
    "        or v0 < 0.0\n",
    "        or lamb < 0.0\n",
    "        or mu < -0.6\n",
    "        or mu > 0.0\n",
    "        or delta < 0.0\n",
    "    ):\n",
    "        return 5000.0\n",
    "\n",
    "    if 2 * kappa_v * theta_v < sigma_v**2:\n",
    "        return 5000.0\n",
    "\n",
    "    se = []\n",
    "    for row, option in options.iterrows():\n",
    "        model_value = method(\n",
    "            S0,\n",
    "            option[\"Strike\"],\n",
    "            option[\"T\"],\n",
    "            option[\"r\"],\n",
    "            kappa_v,\n",
    "            theta_v,\n",
    "            sigma_v,\n",
    "            rho,\n",
    "            v0,\n",
    "            lamb,\n",
    "            mu,\n",
    "            delta,\n",
    "        )\n",
    "        se.append((model_value - option[\"Call\"]) ** 2)\n",
    "\n",
    "    MSE = sum(se) / len(se)\n",
    "    min_MSE = min(min_MSE, MSE)\n",
    "    if i % 200 == 0:\n",
    "        print(\"%4d |\" % i, np.array(p0), \"| %7.3f | %7.3f\" % (MSE, min_MSE))\n",
    "    i += 1\n",
    "    return MSE"
   ]
  },
  {
   "cell_type": "markdown",
   "metadata": {
    "id": "wTOKBI5fNUSZ"
   },
   "source": [
    "And then of course for the different characteristic functions and computation of the Lewis (2001) integral which we had already done earlier:"
   ]
  },
  {
   "cell_type": "markdown",
   "metadata": {
    "id": "yy96IWXYOZvb"
   },
   "source": [
    "Then, we create our functions to calibrate the jump component of the model by starting with the B96_Calibration_Short:"
   ]
  },
  {
   "cell_type": "code",
   "execution_count": null,
   "metadata": {
    "id": "xvVHcbmfNR2g"
   },
   "outputs": [],
   "source": [
    "def B96_calibration_short(method):\n",
    "    \"\"\"\n",
    "    Calibrates jump component of Bates (1996) model to market prices\n",
    "    \"\"\"\n",
    "    # First, we run with brute force\n",
    "    # (scan sensible regions)\n",
    "    opt1 = 0.0\n",
    "    opt1 = brute(\n",
    "        B96_error_function,\n",
    "        (\n",
    "            (0.0, 0.51, 0.1),  # lambda\n",
    "            (-0.5, -0.11, 0.1),  # mu\n",
    "            (0.0, 0.51, 0.25),   # delta\n",
    "        ),\n",
    "        args= {method : method},\n",
    "        finish=None,\n",
    "    )\n",
    "    # Second, we run with local, convex minimization\n",
    "    # (dig deeper where promising)\n",
    "    opt2 = fmin(\n",
    "        B96_error_function,\n",
    "        opt1,\n",
    "        args = (method,),\n",
    "        xtol=0.0000001,\n",
    "        ftol=0.0000001,\n",
    "        maxiter=550,\n",
    "        maxfun=750,\n",
    "    )\n",
    "    return opt2"
   ]
  },
  {
   "cell_type": "code",
   "execution_count": null,
   "metadata": {
    "id": "HdkrkrSwtz-C"
   },
   "outputs": [],
   "source": [
    "def B96_calibration_full(method):\n",
    "    opt = fmin(\n",
    "        B96_full_error_function, p0, args=(method,), xtol=0.001, ftol=0.001, maxiter=1250, maxfun=750\n",
    "    )\n",
    "    return opt"
   ]
  },
  {
   "cell_type": "markdown",
   "metadata": {
    "id": "ne4DRUzlTyi1"
   },
   "source": [
    "##Step 2 (a) The Bates model - Lewis method\n"
   ]
  },
  {
   "cell_type": "code",
   "execution_count": null,
   "metadata": {
    "id": "gyQHuaEdUGd0"
   },
   "outputs": [],
   "source": [
    "################# Load the Data for calibration ########################\n",
    "S0 = 232.90\n",
    "T = 60/250\n",
    "r = 0.015\n",
    "options = load_calibration_data(60)"
   ]
  },
  {
   "cell_type": "code",
   "execution_count": null,
   "metadata": {
    "colab": {
     "base_uri": "https://localhost:8080/"
    },
    "id": "vOyfwm14UaJQ",
    "outputId": "a5c10238-278b-48f4-923f-1e408a06735a"
   },
   "outputs": [
    {
     "name": "stdout",
     "output_type": "stream",
     "text": [
      "   0 | [ 2.5   0.01  0.05 -0.75  0.01] | 124.804 | 124.804\n",
      " 200 | [ 7.5   0.02  0.25 -0.25  0.03] |  76.370 |  58.668\n",
      " 400 | [ 1.49306141e+01  1.49025368e-01  1.01412528e-03 -7.09866761e-03\n",
      "  4.80491047e-02] |   1.264 |   1.264\n",
      "Optimization terminated successfully.\n",
      "         Current function value: 1.264124\n",
      "         Iterations: 132\n",
      "         Function evaluations: 265\n"
     ]
    }
   ],
   "source": [
    " ##Get our Heston jump parameters\n",
    "i = 0\n",
    "min_MSE = 5000.0\n",
    "local_opt = False\n",
    "diff_H_params_fftcm = H93_calibration_full(H93_call_FFT)\n",
    "kappa_v, theta_v, sigma_v, rho, v0 = tuple(diff_H_params_fftcm)"
   ]
  },
  {
   "cell_type": "code",
   "execution_count": null,
   "metadata": {
    "colab": {
     "base_uri": "https://localhost:8080/"
    },
    "id": "7Js4N5_sU2rW",
    "outputId": "0b35c06c-3aea-44e2-c2bf-d28c6f4d95d3"
   },
   "outputs": [
    {
     "name": "stdout",
     "output_type": "stream",
     "text": [
      " 600 | [ 2.5e-04 -5.0e-01  0.0e+00] |   1.264 |   1.264\n",
      "Optimization terminated successfully.\n",
      "         Current function value: 1.264124\n",
      "         Iterations: 58\n",
      "         Function evaluations: 170\n"
     ]
    }
   ],
   "source": [
    "##Calibrate the jump parameters\n",
    "jump_params_lewis = B96_calibration_short(B96_call_value)\n",
    "p0 = np.hstack([diff_H_params_fftcm, jump_params_lewis])\n"
   ]
  },
  {
   "cell_type": "code",
   "execution_count": null,
   "metadata": {
    "colab": {
     "base_uri": "https://localhost:8080/"
    },
    "id": "047b1meNVF2W",
    "outputId": "f585e66d-d2ff-407e-b23d-38401cd4e456"
   },
   "outputs": [
    {
     "name": "stdout",
     "output_type": "stream",
     "text": [
      "   0 | [ 1.49302920e+01  1.49011019e-01  1.01196118e-03 -7.09423428e-03\n",
      "  4.80231862e-02  5.91171556e-15 -5.03645833e-01  3.64583333e-05] |   1.264 |   1.264\n"
     ]
    },
    {
     "name": "stderr",
     "output_type": "stream",
     "text": [
      "<ipython-input-26-e06401f36e4a>:32: IntegrationWarning: The occurrence of roundoff error is detected, which prevents \n",
      "  the requested tolerance from being achieved.  The error may be \n",
      "  underestimated.\n",
      "  int_value = quad(\n"
     ]
    },
    {
     "name": "stdout",
     "output_type": "stream",
     "text": [
      "Optimization terminated successfully.\n",
      "         Current function value: 1.264043\n",
      "         Iterations: 104\n",
      "         Function evaluations: 198\n",
      "\n",
      "\n",
      "\n",
      "Bates Lewis Parameter 14.932 0.149 0.000 -0.006 0.048 0.000 -0.587 0.000 \n"
     ]
    }
   ],
   "source": [
    "i = 0\n",
    "min_MSE = 5000.0\n",
    "################### calibrate full paramteres ###########################\n",
    "bates_full_params_lewis = B96_calibration_full(B96_call_value)\n",
    "print(\"\\n\\n\")\n",
    "print(\"Bates Lewis Parameter %.3f %.3f %.3f %.3f %.3f %.3f %.3f %.3f \" % tuple(bates_full_params_lewis))"
   ]
  },
  {
   "cell_type": "markdown",
   "metadata": {
    "id": "_fTN4nuWXUMq"
   },
   "source": [
    "Estimated parameters\n",
    "\n",
    "𝜅𝑣 = 14.932\n",
    "\n",
    "𝜃𝑣 = 0.149\n",
    "\n",
    "𝜎𝑣 = 0.000\n",
    "\n",
    "𝜌 = −0.006\n",
    "\n",
    "𝑣0 = 0.048\n",
    "\n",
    "𝜆 = 0.000\n",
    "\n",
    "𝜇 = −0.587\n",
    "\n",
    "𝛿 = 0.000"
   ]
  },
  {
   "cell_type": "markdown",
   "metadata": {
    "id": "e_doIewEYWFy"
   },
   "source": [
    "And, finally, a function to calculate values under full model calibration:"
   ]
  },
  {
   "cell_type": "code",
   "execution_count": null,
   "metadata": {
    "id": "AzknwlHIYYZK"
   },
   "outputs": [],
   "source": [
    "def B96_calculate_model_values(p0, method):\n",
    "    kappa_v, theta_v, sigma_v, rho, v0, lamb, mu, delta = p0\n",
    "    values = []\n",
    "    for row, option in options.iterrows():\n",
    "        model_value = method(\n",
    "            S0,\n",
    "            option[\"Strike\"],\n",
    "            option[\"T\"],\n",
    "            r,\n",
    "            kappa_v,\n",
    "            theta_v,\n",
    "            sigma_v,\n",
    "            rho,\n",
    "            v0,\n",
    "            lamb,\n",
    "            mu,\n",
    "            delta,\n",
    "        )\n",
    "        values.append(model_value)\n",
    "    return np.array(values)"
   ]
  },
  {
   "cell_type": "code",
   "execution_count": null,
   "metadata": {
    "id": "x8XIIbnVZXmV"
   },
   "outputs": [],
   "source": [
    "def plot_full_calibration_results(p0, method):\n",
    "    options[\"Model\"] = B96_calculate_model_values(p0, method)\n",
    "    plt.figure(figsize=(8, 6))\n",
    "    plt.subplot(211)\n",
    "    plt.grid()\n",
    "    plt.title(\"Maturity %s\" % str(int(250*options[\"T\"].iloc[0]))[:10])\n",
    "    plt.ylabel(\"option values\")\n",
    "    plt.plot(options.Strike, options.Call, \"b\", label=\"market\")\n",
    "    plt.plot(options.Strike, options.Model, \"ro\", label=\"model\")\n",
    "    plt.legend(loc=0)\n",
    "    plt.axis(\n",
    "        [\n",
    "            min(options.Strike) - 5,\n",
    "            max(options.Strike) + 5,\n",
    "            min(options.Call) - 10,\n",
    "            max(options.Call) + 10,\n",
    "        ]\n",
    "    )\n",
    "    plt.subplot(212)\n",
    "    plt.grid()\n",
    "    wi = 2.0\n",
    "    diffs = options.Model.values - options.Call.values\n",
    "    plt.bar(options.Strike.values - wi / 2, diffs, width=wi)\n",
    "    plt.ylabel(\"difference\")\n",
    "    plt.xlabel(\"Strike\")\n",
    "    plt.axis(\n",
    "        [\n",
    "            min(options.Strike) - 5,\n",
    "            max(options.Strike) + 5,\n",
    "            min(diffs) * 1.1,\n",
    "            max(diffs) * 1.1,\n",
    "        ]\n",
    "    )\n",
    "    plt.tight_layout()\n"
   ]
  },
  {
   "cell_type": "code",
   "execution_count": null,
   "metadata": {
    "colab": {
     "base_uri": "https://localhost:8080/",
     "height": 696
    },
    "id": "RUItAfQ-CShS",
    "outputId": "ab732d3e-4e00-4193-922b-118a6408b2fe"
   },
   "outputs": [
    {
     "name": "stderr",
     "output_type": "stream",
     "text": [
      "<ipython-input-26-e06401f36e4a>:32: IntegrationWarning: The occurrence of roundoff error is detected, which prevents \n",
      "  the requested tolerance from being achieved.  The error may be \n",
      "  underestimated.\n",
      "  int_value = quad(\n"
     ]
    },
    {
     "data": {
      "image/png": "[encoded data removed]",
      "text/plain": [
       "<Figure size 800x600 with 2 Axes>"
      ]
     },
     "metadata": {},
     "output_type": "display_data"
    }
   ],
   "source": [
    "plot_full_calibration_results(bates_full_params_lewis, B96_call_value)"
   ]
  },
  {
   "cell_type": "markdown",
   "metadata": {
    "id": "D0pGs5-wl5AT"
   },
   "source": [
    "##Step 2(b) Using Carr-Madan(1999) approach to Bates (1996) model."
   ]
  },
  {
   "cell_type": "code",
   "execution_count": null,
   "metadata": {
    "colab": {
     "base_uri": "https://localhost:8080/"
    },
    "id": "HNnLm9PZmElR",
    "outputId": "409c0eaf-77b1-47b0-a53a-01e79abb1fa1"
   },
   "outputs": [
    {
     "name": "stdout",
     "output_type": "stream",
     "text": [
      "   0 | [ 0.  -0.5  0. ] |   1.264 |   1.264\n",
      " 200 | [ 4.54745809e-16 -5.08332966e-01  8.33343223e-05] |   1.264 |   1.264\n",
      "Optimization terminated successfully.\n",
      "         Current function value: 1.264124\n",
      "         Iterations: 63\n",
      "         Function evaluations: 180\n"
     ]
    }
   ],
   "source": [
    "i = 0\n",
    "min_MSE = 5000.0\n",
    "local_opt = False\n",
    "######### reset the Heston stochastic volatility parameters ##############\n",
    "kappa_v, theta_v, sigma_v, rho, v0 = tuple(diff_H_params_fftcm)\n",
    "jump_params_fftmc = B96_calibration_short(B96_call_FFT)\n",
    "p0 = np.hstack([diff_H_params_fftcm, jump_params_fftmc])"
   ]
  },
  {
   "cell_type": "code",
   "execution_count": null,
   "metadata": {
    "colab": {
     "base_uri": "https://localhost:8080/"
    },
    "id": "mrQOQCkUm3PJ",
    "outputId": "e3f37538-ee5f-4592-aeda-043aa134cada"
   },
   "outputs": [
    {
     "name": "stdout",
     "output_type": "stream",
     "text": [
      "   0 | [ 1.49302920e+01  1.49011019e-01  1.01196118e-03 -7.09423428e-03\n",
      "  4.80231862e-02  4.54747351e-16 -5.08333333e-01  8.33333333e-05] |   1.264 |   1.264\n",
      "Optimization terminated successfully.\n",
      "         Current function value: 1.264109\n",
      "         Iterations: 107\n",
      "         Function evaluations: 212\n",
      "\n",
      "\n",
      "\n",
      "Bates Lewis Parameter 14.871 0.149 0.000 -0.007 0.048 0.000 -0.572 0.000\n"
     ]
    }
   ],
   "source": [
    "i = 0\n",
    "min_MSE = 5000.0\n",
    "bates_full_params_fft = B96_calibration_full(B96_call_FFT)\n",
    "print(\"\\n\\n\")\n",
    "print(\"Bates Lewis Parameter %.3f %.3f %.3f %.3f %.3f %.3f %.3f %.3f\" % tuple(bates_full_params_fft))"
   ]
  },
  {
   "cell_type": "markdown",
   "metadata": {
    "id": "pEiFRZ9j0UfV"
   },
   "source": [
    "Estimated parameters\n",
    "\n",
    "𝜅𝑣 = 14.871\n",
    "\n",
    "𝜃𝑣 = 0.149\n",
    "\n",
    "𝜎𝑣 = 0.000\n",
    "\n",
    "𝜌 = −0.007\n",
    "\n",
    "𝑣0 = 0.048\n",
    "\n",
    "𝜆 = 0.000\n",
    "\n",
    "𝜇 = −0.572\n",
    "\n",
    "𝛿 = 0.000"
   ]
  },
  {
   "cell_type": "code",
   "execution_count": null,
   "metadata": {
    "colab": {
     "base_uri": "https://localhost:8080/",
     "height": 607
    },
    "id": "5dbIcRJ-nw5P",
    "outputId": "fefbb238-6e99-461f-fcfd-31197d5c4536"
   },
   "outputs": [
    {
     "data": {
      "image/png": "[encoded data removed]",
      "text/plain": [
       "<Figure size 800x600 with 2 Axes>"
      ]
     },
     "metadata": {},
     "output_type": "display_data"
    }
   ],
   "source": [
    "plot_full_calibration_results(bates_full_params_lewis, B96_call_FFT)"
   ]
  },
  {
   "cell_type": "markdown",
   "metadata": {
    "id": "cokMIW3toRYb"
   },
   "source": [
    "##Step 2(c) Pricing a put option on firm SM with 70 days maturity and moneyness of 95% (i.e., strike is 95% of the current price)."
   ]
  },
  {
   "cell_type": "code",
   "execution_count": null,
   "metadata": {
    "id": "WVypz8ZcobyO"
   },
   "outputs": [],
   "source": [
    "def SDE_bates_vol(v0, kappa, theta, sigma, T, M, Ite, rand, row, cho_matrix):\n",
    "    dt = T / M # T = maturity, M = number of time steps\n",
    "    v = np.zeros((M + 1, Ite), dtype=np.float32)\n",
    "    v[0] = v0\n",
    "    sdt = np.sqrt(dt) # Sqrt of dt\n",
    "    for t in range(1, M + 1):\n",
    "        ran = np.dot(cho_matrix, rand[:, t])\n",
    "        v[t] = np.maximum(\n",
    "            0,\n",
    "            v[t - 1]\n",
    "            + kappa * (theta - v[t - 1]) * dt\n",
    "            + np.sqrt(v[t - 1]) * sigma * (ran[row] * sdt)**2\n",
    "        )\n",
    "    return v"
   ]
  },
  {
   "cell_type": "code",
   "execution_count": null,
   "metadata": {
    "id": "xa7jsoTQqDRE"
   },
   "outputs": [],
   "source": [
    "def Bates_paths(S0, r, v, row, lamb, mu, delta, cho_matrix, rand, M, dt, Ite):\n",
    "    S = np.zeros((M + 1, Ite), dtype=np.float32)\n",
    "    S[0] = S0\n",
    "    sdt = np.sqrt(dt)\n",
    "    rj = lamb * (np.exp(mu + 0.5 * delta**2) - 1) # rj\n",
    "    # Random numbers\n",
    "    Jt = np.exp(np.random.normal(np.log( 1 + mu ) - 0.5 * delta ** 2, delta ** 2, size=(M + 1, Ite)))\n",
    "    Nt = np.random.poisson(lamb * dt, (M + 1, Ite))\n",
    "    for t in range(1, M + 1):\n",
    "        ran = np.dot(cho_matrix, rand[:, t])\n",
    "        S[t] = S[t - 1] * (1 +\n",
    "                           (r - rj) * dt + np.sqrt(v[t]) * ran[row] * sdt + Jt[t] * Nt[t])\n",
    "        S[t] = np.maximum(S[t], 0.00001) # To ensure that the price never goes below 0.\n",
    "    return S"
   ]
  },
  {
   "cell_type": "code",
   "execution_count": null,
   "metadata": {
    "id": "QmmtDsS9sT05"
   },
   "outputs": [],
   "source": [
    "def random_number_gen(M, Ite):\n",
    "    rand = np.random.standard_normal((2, M + 1, Ite))\n",
    "    return rand"
   ]
  },
  {
   "cell_type": "code",
   "execution_count": null,
   "metadata": {
    "colab": {
     "base_uri": "https://localhost:8080/"
    },
    "id": "Q6ivX2ant-IL",
    "outputId": "5dd2b285-0993-4944-9609-b92cf1c17f24"
   },
   "outputs": [
    {
     "name": "stdout",
     "output_type": "stream",
     "text": [
      "The Asian Put price is $4.12\n",
      "The European Put price is $11.35\n"
     ]
    }
   ],
   "source": [
    "def bates_asian_opt_call(S0, K, r, T, params):\n",
    "    kappa_v , theta_v, sigma_v, rho, v0, lamb, mu, delta = tuple(params)\n",
    "    M0 = 250 # Number of time steps in a year\n",
    "    M = int(M0 * T) # Total time steps\n",
    "    Ite = 10**5 # Number of simulations\n",
    "    dt = T / M # Length of time step\n",
    "    # Generating random numbers from standard normal\n",
    "    rand = random_number_gen(M, Ite)\n",
    "    # Covariance Matrix\n",
    "    covariance_matrix = np.zeros((2, 2), dtype=np.float32)\n",
    "    covariance_matrix[0] = [1.0, rho]\n",
    "    covariance_matrix[1] = [rho, 1.0]\n",
    "    cho_matrix = np.linalg.cholesky(covariance_matrix)\n",
    "    # Volatility process paths\n",
    "    V = SDE_bates_vol(v0, kappa_v, theta_v, sigma_v, T, M, Ite, rand, 1, cho_matrix)\n",
    "    # Underlying price process paths\n",
    "    S = Bates_paths(S0, r, V, 0, lamb, mu, delta, cho_matrix, rand, M, dt, Ite)\n",
    "    put_asian = np.maximum( -S.mean(axis=0) + K, 0).mean()\n",
    "    return put_asian\n",
    "bates_put = bates_asian_opt_call(S0, S0*0.95, r, 70/250, bates_full_params_fft)\n",
    "print(\"The Asian Put price is $%.2f\" %bates_put)\n",
    "kappa_v, theta_v, sigma_v, rho, v0, lamb, mu, delta = tuple(bates_full_params_lewis)\n",
    "cp = B96_call_FFT(S0, S0*0.95, 70/250, r, kappa_v, theta_v, sigma_v, rho, v0, lamb, mu, delta)\n",
    "put_european = cp + S0*0.95 * np.exp(-70/250*r) - S0\n",
    "print(\"The European Put price is $%.2f\" % put_european)"
   ]
  },
  {
   "cell_type": "markdown",
   "metadata": {
    "id": "oFnIbYTtoSid"
   },
   "source": [
    "#Step 3"
   ]
  },
  {
   "cell_type": "markdown",
   "metadata": {
    "id": "DkDpT5-foYBI"
   },
   "source": [
    "##Step 3(a) Calibrate a CIR (1985) model considering current rates, describing the overall process."
   ]
  },
  {
   "cell_type": "markdown",
   "metadata": {
    "id": "j3T6Z6NcYFOL"
   },
   "source": [
    "The first task that we need to complete is to get the Euribor (risk-free) Current rates for different maturities (in days, weeks, days, Months, years all divided by 360 to express it as a fraction of years)\n",
    "\n",
    "Euribor 1 Week          ======== 0.648%\n",
    "\n",
    "Euribor 1 Month         ======= 0.679%\n",
    "\n",
    "Euribor 3 Months        ====== 1.173%\n",
    "\n",
    "Euribor 6 Months        ====== 1.809%\n",
    "\n",
    "Euribor 12 Months       ===== 2.556%"
   ]
  },
  {
   "cell_type": "code",
   "execution_count": null,
   "metadata": {
    "id": "zq-3xtQvo2b7"
   },
   "outputs": [],
   "source": [
    "mat_list = np.array((7, 30, 90, 180, 360)) / 360\n",
    "rate_list = (\n",
    " np.array((0.648, 0.679, 1.173, 1.809, 2.556)) / 100\n",
    ")"
   ]
  },
  {
   "cell_type": "markdown",
   "metadata": {
    "id": "C5gr4RgSXgiu"
   },
   "source": [
    "Next, we have to build up the valuation of bonds according to the Cox-Ingersoll-Ross model of 1985.\n",
    "\n",
    "The CIR model has the following general SDE:\n",
    "$$\n",
    "\\\n",
    "\\begin{equation*}\n",
    "  dr_t = k_r(\\theta_r-r_t)dt + \\sigma_r \\sqrt{r_t} dz_t\n",
    "\\end{equation*}\n",
    "$$\n",
    "\\\n",
    "In this model, prices of ZCBs paying 1 monetary unit at T take the following form:\n",
    "$$\n",
    "\\\n",
    "\\begin{equation*}\n",
    "        B_0(T) = b_1(T) e^{-b_2(T)r_0}\n",
    "\\end{equation*}\n",
    "$$"
   ]
  },
  {
   "cell_type": "markdown",
   "metadata": {
    "id": "Nn8BjihRXyfN"
   },
   "source": [
    "let's define the current short-term rate ( 𝑟0\n",
    " ), the capitalization factors and the zero-forward rates implied by the Euribor rates observed in the market. (Note that we are using 30/360 convention for the rates since this is the way Euribor--and most rates remain quoted)"
   ]
  },
  {
   "cell_type": "code",
   "execution_count": null,
   "metadata": {
    "colab": {
     "base_uri": "https://localhost:8080/"
    },
    "id": "5EFocvKQVykk",
    "outputId": "d328842c-3f39-48fc-ebd6-0d9d3101d68d"
   },
   "outputs": [
    {
     "data": {
      "text/plain": [
       "array([0.00647959, 0.00678808, 0.01171283, 0.01800868, 0.0252388 ])"
      ]
     },
     "execution_count": 47,
     "metadata": {},
     "output_type": "execute_result"
    }
   ],
   "source": [
    "r0 = rate_list[0]\n",
    "factors = 1 + mat_list * rate_list\n",
    "zero_rates = 1 / mat_list * np.log(factors)\n",
    "zero_rates"
   ]
  },
  {
   "cell_type": "markdown",
   "metadata": {
    "id": "TT9c08HzYFsR"
   },
   "source": [
    "Let's plot our forward rates (from  𝑡=0\n",
    " ) and the different maturities:"
   ]
  },
  {
   "cell_type": "code",
   "execution_count": null,
   "metadata": {
    "colab": {
     "base_uri": "https://localhost:8080/",
     "height": 472
    },
    "id": "h4A2D0aRV8E-",
    "outputId": "8ceeb05b-ec6e-462c-e44c-b5e39ddcb833"
   },
   "outputs": [
    {
     "data": {
      "image/png": "[encoded data removed]",
      "text/plain": [
       "<Figure size 640x480 with 1 Axes>"
      ]
     },
     "metadata": {},
     "output_type": "display_data"
    }
   ],
   "source": [
    "plt.plot(mat_list, zero_rates, \"r.\", markersize=\"15\")\n",
    "plt.xlabel(\"Time Horizon\")\n",
    "plt.ylabel(\"Zero forward rate\")\n",
    "plt.title(\"Term Structure Euribor\")\n",
    "plt.show()"
   ]
  },
  {
   "cell_type": "markdown",
   "metadata": {
    "id": "jl_zOvx2Yfvy"
   },
   "source": [
    "Unfortunately, as we observed in the previous graph, there are a limited amount of rates quoted in the market. However, in order to calibrate the parameters within our model, we would prefer to have as many inputs (data points) as possible by using one common solution to this:\n",
    "\n",
    "By interpolating the term structure of forward rates consisting of fitting a function that can replicate the observed term structure and infer what the forward rate of a given maturity for which there is no market quote is using a common way of interpolation, called the cubic spline interpolation."
   ]
  },
  {
   "cell_type": "code",
   "execution_count": null,
   "metadata": {
    "id": "YAw5EpasWHgR"
   },
   "outputs": [],
   "source": [
    "bspline = splrep(mat_list, zero_rates, k=3) # Cubic spline\n",
    "mat_list_n = np.linspace(\n",
    " 0.0, 1.0, 52\n",
    ") # weekly rates\n",
    "inter_rates = splev(mat_list_n, bspline, der=0) # Interpolated rates\n",
    "first_der = splev(mat_list_n, bspline, der=1) # First derivative of spline\n",
    "f = (\n",
    " inter_rates + first_der * mat_list_n\n",
    ") # Forward rate given interpolated ones and first derivative"
   ]
  },
  {
   "cell_type": "markdown",
   "metadata": {
    "id": "mx0xOKPYZzX9"
   },
   "source": [
    "Now, let's compare the output of our interpolation with the observed market quotes:"
   ]
  },
  {
   "cell_type": "code",
   "execution_count": null,
   "metadata": {
    "colab": {
     "base_uri": "https://localhost:8080/",
     "height": 476
    },
    "id": "ct4WJ_CMZ8HH",
    "outputId": "462fb508-4e10-4122-92b3-271edf4a4d99"
   },
   "outputs": [
    {
     "data": {
      "image/png": "[encoded data removed]",
      "text/plain": [
       "<Figure size 1200x600 with 1 Axes>"
      ]
     },
     "metadata": {},
     "output_type": "display_data"
    }
   ],
   "source": [
    "plt.figure(figsize=(12, 6))\n",
    "plt.plot(mat_list*52, zero_rates, \"r.\", markersize=\"15\", label=\"Market quotes\")\n",
    "plt.plot(mat_list_n*52, inter_rates, \"--\", markersize=\"10\", label=\"Interpolation\")\n",
    "plt.plot(mat_list_n*52, first_der, \"g--\", markersize=\"10\", label=\"1st derivative\")\n",
    "plt.xlabel(\"Time Horizon\")\n",
    "plt.ylabel(\"Zero forward rate\")\n",
    "plt.title(\"Term Structure Euribor\")\n",
    "plt.legend()\n",
    "plt.show()"
   ]
  },
  {
   "cell_type": "markdown",
   "metadata": {
    "id": "Mh9Rm5F8awom"
   },
   "source": [
    "From the graph, we seem pretty close. In turn, we have many more data points that we can use to calibrate our interest rate model to observed (or, better said, interpolated from observed) market quotes.\n",
    "\n",
    "We will calibrate forward rates of the CIR (1985) model defining in Python the forward rate expression in the CIR model, $f^{CIR}(t,T; \\alpha)$. Remember that we have already seen this expression before:\n",
    "$$\n",
    "\\\n",
    "\\begin{equation*}\n",
    "   f^{CIR}(t,T; \\alpha) = \\frac{\\kappa_r \\theta_r (e^{\\gamma t}-1)}{2\\gamma + (\\kappa_r + \\gamma)(e^{\\gamma t}-1)} + r_0 \\frac{4\\gamma^2 e^{\\gamma t}}{(2\\gamma + (\\kappa_r + \\gamma)(e^{\\gamma t}-1))^2}\n",
    "\\end{equation*}\n",
    "$$\n"
   ]
  },
  {
   "cell_type": "code",
   "execution_count": null,
   "metadata": {
    "id": "GIBoS3iGavph"
   },
   "outputs": [],
   "source": [
    "def CIR_forward_rate(alpha):\n",
    "    \"\"\"\n",
    "    Forward rates in CIR (1985) model\n",
    "    The set of parameters is called alpha and include Kappa_r, Theta_r and Sigma_r\n",
    "    \"\"\"\n",
    "\n",
    "    kappa_r, theta_r, sigma_r = alpha\n",
    "\n",
    "    t = mat_list_n\n",
    "    g = np.sqrt(kappa_r**2 + 2 * sigma_r**2)\n",
    "\n",
    "    s1 = (kappa_r * theta_r * (np.exp(g * t) - 1)) / (\n",
    "        2 * g + (kappa_r + g) * (np.exp(g * t) - 1)\n",
    "    )\n",
    "\n",
    "    s2 = r0 * (\n",
    "        (4 * g**2 * np.exp(g * t)) / (2 * g + (kappa_r + g) * (np.exp(g * t)) ** 2)\n",
    "    )\n",
    "\n",
    "    return s1 + s2"
   ]
  },
  {
   "cell_type": "markdown",
   "metadata": {
    "id": "MnFBGU0RbnXp"
   },
   "source": [
    "We will then define our error function, which is basically equivalent to other error functions we have defined earlier. We are using the Mean Squared Error (MSE), given $\\alpha$ equal to the set of parameters to calibrate:\n",
    "\n",
    "$$\n",
    "\\\n",
    "\\begin{equation*}\n",
    "  min \\frac{1}{M} \\sum_{m=0}^{M} \\left( f(0,m\\Delta t) - f^{CIR}(0,m\\Delta t; \\alpha) \\right)^2\n",
    "\\end{equation*}\n",
    "$$\n",
    "\\\n",
    "with $M = T / \\Delta t$, that is, the number of market data points between $0$ and $T$."
   ]
  },
  {
   "cell_type": "code",
   "execution_count": null,
   "metadata": {
    "id": "ex0_WBZFcNpM"
   },
   "outputs": [],
   "source": [
    "def CIR_error_function(alpha):\n",
    "    \"\"\"\n",
    "    Error function to calibrate CIR (1985) model\n",
    "    \"\"\"\n",
    "    kappa_r, theta_r, sigma_r = alpha\n",
    "    # Few remarks to avoid problems for certain values of parameters:\n",
    "    if 2 * kappa_r * theta_r < sigma_r**2:\n",
    "        return 100\n",
    "    if kappa_r < 0 or theta_r < 0 or sigma_r < 0.001:\n",
    "        return 100\n",
    "    forward_rates = CIR_forward_rate(alpha)\n",
    "    MSE = np.sum((f - forward_rates) ** 2) / len(f)\n",
    "    return MSE"
   ]
  },
  {
   "cell_type": "markdown",
   "metadata": {
    "id": "bbGWn4sHchrj"
   },
   "source": [
    "We then create our optimization function to minimize the difference between model and market rates, very much in the same way as we did earier in the code for other models and define our CIR Calibration:"
   ]
  },
  {
   "cell_type": "code",
   "execution_count": null,
   "metadata": {
    "id": "0kVnwGBjc-a0"
   },
   "outputs": [],
   "source": [
    "def CIR_calibration():\n",
    "    opt = fmin(\n",
    "        CIR_error_function,\n",
    "        [1.0, 0.02, 0.1],\n",
    "        xtol=0.00001,\n",
    "        ftol=0.00001,\n",
    "        maxiter=300,\n",
    "        maxfun=500,\n",
    "    )\n",
    "\n",
    "    return opt"
   ]
  },
  {
   "cell_type": "markdown",
   "metadata": {
    "id": "Jt961_FCdbst"
   },
   "source": [
    "We now run our calibration function to obtain the parameters:"
   ]
  },
  {
   "cell_type": "code",
   "execution_count": null,
   "metadata": {
    "colab": {
     "base_uri": "https://localhost:8080/"
    },
    "id": "Bkx58-bydcSW",
    "outputId": "9489544d-9e67-4641-8e1b-26241dec6654"
   },
   "outputs": [
    {
     "name": "stdout",
     "output_type": "stream",
     "text": [
      "Optimization terminated successfully.\n",
      "         Current function value: 0.000003\n",
      "         Iterations: 142\n",
      "         Function evaluations: 251\n"
     ]
    },
    {
     "data": {
      "text/plain": [
       "array([0.99872676, 0.10742899, 0.00100228])"
      ]
     },
     "execution_count": 54,
     "metadata": {},
     "output_type": "execute_result"
    }
   ],
   "source": [
    "params = CIR_calibration()\n",
    "params"
   ]
  },
  {
   "cell_type": "markdown",
   "metadata": {
    "id": "opnLF38fjADK"
   },
   "source": [
    "We still have the results of the calibration of CIR (1985) and we store these parameters in variables for later use"
   ]
  },
  {
   "cell_type": "markdown",
   "metadata": {
    "id": "tiyBkpb7d6qW"
   },
   "source": [
    "Even though we exceeded the maximum number of function evaluations we set, we obtained parameters that closely match market data:\n",
    "\n",
    "- $\\kappa_r = 0.999$\n",
    "- $\\theta_r = 0.107$\n",
    "- $\\sigma_r = 0.001$\n",
    "\n",
    "\\\n",
    "Then, let's see graphically the results of our calibration given the previous parameters:"
   ]
  },
  {
   "cell_type": "code",
   "execution_count": null,
   "metadata": {
    "colab": {
     "base_uri": "https://localhost:8080/",
     "height": 603
    },
    "id": "llmmqcksemnO",
    "outputId": "b03099b2-5588-4075-a2d1-b99d81f74157"
   },
   "outputs": [
    {
     "name": "stdout",
     "output_type": "stream",
     "text": [
      "0.038274774965997516\n"
     ]
    },
    {
     "data": {
      "image/png": "[encoded data removed]",
      "text/plain": [
       "<Figure size 1200x800 with 2 Axes>"
      ]
     },
     "metadata": {},
     "output_type": "display_data"
    }
   ],
   "source": [
    "def plot_calibrated_frc(opt):\n",
    "    \"\"\"Plots market and calibrated forward rate curves.\"\"\"\n",
    "    forward_rates = CIR_forward_rate(opt)\n",
    "    print(forward_rates[-1])\n",
    "    plt.figure(figsize=(12, 8))\n",
    "    plt.subplot(211)\n",
    "    plt.title(\"CIR model calibration\")\n",
    "    plt.ylabel(\"Forward rate $f(0,T)$\")\n",
    "    plt.plot(mat_list_n, f, \"ro\", label=\"market\")\n",
    "    plt.plot(mat_list_n, forward_rates, \"b--\", label=\"model\")\n",
    "    plt.legend(loc=0)\n",
    "    plt.axis(\n",
    "        [min(mat_list_n) - 0.05, max(mat_list_n) + 0.05, min(f) - 0.005, max(f) * 1.1]\n",
    "    )\n",
    "    plt.subplot(212)\n",
    "    wi = 0.02\n",
    "    plt.bar(mat_list_n - wi / 2, forward_rates - f, width=wi)\n",
    "    plt.xlabel(\"Time horizon\")\n",
    "    plt.ylabel(\"Difference\")\n",
    "    plt.axis(\n",
    "        [\n",
    "            min(mat_list_n) - 0.05,\n",
    "            max(mat_list_n) + 0.05,\n",
    "            min(forward_rates - f) * 1.1,\n",
    "            max(forward_rates - f) * 1.1,\n",
    "        ]\n",
    "    )\n",
    "    plt.tight_layout()\n",
    "plot_calibrated_frc(params)"
   ]
  },
  {
   "cell_type": "markdown",
   "metadata": {
    "id": "Gj7GHTB1hud0"
   },
   "source": [
    "## Step 3(b)"
   ]
  },
  {
   "cell_type": "markdown",
   "metadata": {
    "id": "_kX-ZgKliL8t"
   },
   "source": [
    "Given the different CIR model parameters obtained in the above step, we will now simulate Euribor 12-month rates daily for a period of 1 year by running 100,000 Monte-Carlo simulations."
   ]
  },
  {
   "cell_type": "code",
   "execution_count": null,
   "metadata": {
    "id": "oxdyJUlbhtmN"
   },
   "outputs": [],
   "source": [
    "def cir(r0, k, theta, sigma, T, N, M):\n",
    "    dt = T / N\n",
    "    rates = np.zeros((N, M))\n",
    "    rates[0, :] = r0\n",
    "    for j in range(M):\n",
    "        for i in range(1, N):\n",
    "            dr = (\n",
    "                k * (theta - rates[i - 1, j]) * dt\n",
    "                + sigma\n",
    "                * np.sqrt(dt)\n",
    "                * np.sqrt(np.maximum(rates[i - 1, j], 0))\n",
    "                * np.random.normal()\n",
    "            )\n",
    "            rates[i, j] = rates[i - 1, j] + dr\n",
    "    return rates\n"
   ]
  },
  {
   "cell_type": "code",
   "execution_count": null,
   "metadata": {
    "id": "d0_ptqKillfq"
   },
   "outputs": [],
   "source": [
    "paths = 365\n",
    "time = 1\n",
    "k, theta, sigma = params\n",
    "r0 = inter_rates[0]\n",
    "rates_cir = cir(r0, k, theta, sigma, time, paths, 10**5)"
   ]
  },
  {
   "cell_type": "code",
   "execution_count": null,
   "metadata": {
    "colab": {
     "base_uri": "https://localhost:8080/",
     "height": 449
    },
    "id": "cEDUneoll4x3",
    "outputId": "1bae22ec-6d0c-4033-e1af-e6988227f2f7"
   },
   "outputs": [
    {
     "data": {
      "image/png": "[encoded data removed]",
      "text/plain": [
       "<Figure size 640x480 with 1 Axes>"
      ]
     },
     "metadata": {},
     "output_type": "display_data"
    }
   ],
   "source": [
    "xpts = np.linspace(\n",
    " 0.0, time, paths\n",
    ") # weekly rates\n",
    "plt.plot(xpts, rates_cir)\n",
    "plt.xlabel(\"Time Horizon (Years)\")\n",
    "plt.ylabel(\"Rates\")\n",
    "plt.show()"
   ]
  },
  {
   "cell_type": "code",
   "execution_count": null,
   "metadata": {
    "colab": {
     "base_uri": "https://localhost:8080/",
     "height": 489
    },
    "id": "t4tiLncgm6_v",
    "outputId": "6ab2456b-10ad-4da4-eca6-85bbbbab0ca7"
   },
   "outputs": [
    {
     "name": "stdout",
     "output_type": "stream",
     "text": [
      "7.027773426375754 0.015259086923424602\n"
     ]
    },
    {
     "data": {
      "image/png": "[encoded data removed]",
      "text/plain": [
       "<Figure size 640x480 with 1 Axes>"
      ]
     },
     "metadata": {},
     "output_type": "display_data"
    }
   ],
   "source": [
    "import scipy.stats as stats\n",
    "mean = rates_cir[-1].mean()\n",
    "std = rates_cir[-1].std()\n",
    "print(mean*100, std*100)\n",
    "plt.hist(rates_cir[-1], bins=20, density=True)\n",
    "plt.xlabel(\"Rates\")\n",
    "plt.title(\"Distribution of Interest rates\")\n",
    "plt.ylabel(\"Frequency\")\n",
    "x = np.linspace(mean - 5*std, mean + 5*std, 100)\n",
    "plt.plot(x, stats.norm.pdf(x, mean, std))\n",
    "plt.show()"
   ]
  },
  {
   "cell_type": "markdown",
   "metadata": {
    "id": "2xA_CYsF3sxP"
   },
   "source": [
    "\n",
    "For the above Histogram:\n",
    "\n",
    "Mean = 7.027765140591792\n",
    "\n",
    "Standard Deviation = 0.015170630739746541"
   ]
  },
  {
   "cell_type": "markdown",
   "metadata": {
    "id": "t2MmzL_tpgtL"
   },
   "source": [
    "###Step 3b(i) Select a level of confidence you are comfortable with, which is the range (min and max) that the 12-month Euribor can take in the next year?"
   ]
  },
  {
   "cell_type": "code",
   "execution_count": null,
   "metadata": {
    "colab": {
     "base_uri": "https://localhost:8080/"
    },
    "id": "fqjpnncXnKJ6",
    "outputId": "2ca4436c-2f9c-4091-92c9-80b90e8afee3"
   },
   "outputs": [
    {
     "name": "stdout",
     "output_type": "stream",
     "text": [
      "95% confidence interval for interest rates (7.0, 7.06)\n"
     ]
    }
   ],
   "source": [
    "# 95% confidence interval for interest rates\n",
    "print(\"95% confidence interval for interest rates\",\n",
    " (round((mean - 2*std)*100, 2),\n",
    " round((mean + 2*std)*100, 2))\n",
    ")"
   ]
  },
  {
   "cell_type": "markdown",
   "metadata": {
    "id": "TiKX_dimnT1q"
   },
   "source": [
    "Step 3b(ii) What is the expected value of the 12-month Euribor in 1 year?"
   ]
  },
  {
   "cell_type": "code",
   "execution_count": null,
   "metadata": {
    "colab": {
     "base_uri": "https://localhost:8080/"
    },
    "id": "w11k29obnV7l",
    "outputId": "dcff728f-0405-4423-8e22-542ad589788c"
   },
   "outputs": [
    {
     "name": "stdout",
     "output_type": "stream",
     "text": [
      "Expected rate 0.0703 %\n"
     ]
    }
   ],
   "source": [
    "print(\"Expected rate\", round(mean, 4), \"%\")"
   ]
  },
  {
   "cell_type": "markdown",
   "metadata": {
    "id": "JEVI1IFcqgKi"
   },
   "source": [
    "###Step 3b(iii) How will this expected number affect the pricing of your products in 1 year versus the current 12-month Euribor rate?"
   ]
  },
  {
   "cell_type": "markdown",
   "metadata": {
    "id": "FUhNLyp5D-N-"
   },
   "source": [
    "When the current 12 month Euribor in 1-yr is 2.256%"
   ]
  },
  {
   "cell_type": "code",
   "execution_count": null,
   "metadata": {
    "colab": {
     "base_uri": "https://localhost:8080/"
    },
    "id": "MO9bL4EO48Zr",
    "outputId": "d9d21213-1842-4d94-ca0d-7988f56824a3"
   },
   "outputs": [
    {
     "name": "stdout",
     "output_type": "stream",
     "text": [
      "The Asian Put price is $4.05\n",
      "The European Put price is $11.08\n",
      "European call Price $24.30\n"
     ]
    }
   ],
   "source": [
    "r = 0.02556  #When r is 2.556%\n",
    "bates_put = bates_asian_opt_call(S0, S0*0.95, r, 70/250, bates_full_params_fft)\n",
    "print(\"The Asian Put price is $%.2f\" %bates_put)\n",
    "#######\n",
    "kappa_v, theta_v, sigma_v, rho, v0, lamb, mu, delta = tuple(bates_full_params_lewis)\n",
    "cp = B96_call_FFT(S0, S0*0.95, 70/250, r, kappa_v, theta_v, sigma_v, rho, v0, lamb, mu, delta)\n",
    "print(\"The European Put price is $%.2f\" % (cp + S0*0.95 * np.exp(-70/250*r) - S0))\n",
    "print(\"European call Price $%.2f\" % cp)"
   ]
  },
  {
   "cell_type": "markdown",
   "metadata": {
    "id": "40OLT_rJ5QvD"
   },
   "source": [
    "When the expected 12 month Euribor in 1-yr is 7.03%"
   ]
  },
  {
   "cell_type": "code",
   "execution_count": null,
   "metadata": {
    "colab": {
     "base_uri": "https://localhost:8080/"
    },
    "id": "SWOzdR5z5Rk3",
    "outputId": "e7b78adc-3342-4850-ea03-d2a94dc74bb1"
   },
   "outputs": [
    {
     "name": "stdout",
     "output_type": "stream",
     "text": [
      "The Asian Put price is $3.64\n",
      "The European Put price is $9.99\n",
      "European call Price $25.94\n"
     ]
    }
   ],
   "source": [
    "r = 0.0703 #When r is 7.03%\n",
    "bates_put = bates_asian_opt_call(S0, S0*0.95, r, 70/250, bates_full_params_fft)\n",
    "print(\"The Asian Put price is $%.2f\" %bates_put)\n",
    "#######\n",
    "kappa_v, theta_v, sigma_v, rho, v0, lamb, mu, delta = tuple(bates_full_params_lewis)\n",
    "cp = B96_call_FFT(S0, S0*0.95, 70/250, r, kappa_v, theta_v, sigma_v, rho, v0, lamb, mu, delta)\n",
    "print(\"The European Put price is $%.2f\" % (cp + S0*0.95 * np.exp(-70/250*r) - S0))\n",
    "print(\"European call Price $%.2f\" % cp)"
   ]
  },
  {
   "cell_type": "markdown",
   "metadata": {
    "id": "mqO8PA6m9wYR"
   },
   "source": [
    "The current 12-month Euribor rate is 2.56%, while the expected 12-month Euribor rate is 7.03%. This will have an impact on the pricing of long-term European call options, which will be higher at 25.94 against 24.20. The Asian Put Price and the European Put Price will be lower at 3.64 and 9.99, respectively, compared to the current 12-month Euribor rate, which is higher at 4.02 and 11.16.\n"
   ]
  },
  {
   "cell_type": "markdown",
   "metadata": {
    "id": "gYm9c2lyuyOd"
   },
   "source": [
    "#Bibliography:\n",
    "Aase, Knut K. \"*Contingent Claims Valuation when the Security Price is a Combination of an Ito Process and a Random Point Process*.\" Stochastic Processes and their Applications, vol. 28, 1988, pp. 185-220.\n",
    "\n",
    "Bates, David S. “*Jumps and Stochastic Volatility: Exchange Rate Processes Implicity in Deutsche Mark Options*.” Review of Financial Studies, vol. 9, no. 1, 1996, pp. 69-107\n",
    "\n",
    "Carr, Peter, and Dilip Madan. \"*Option Valuation Using the Fast Fourier Transform*.\" Journal of Computational Finance, vol. 2, no. 4, 1999, pp. 61-73.\n",
    "\n",
    "Cox, J.C., J.E. Ingersoll, and S.A. Ross. \"*A Theory of the Term Structure of Interest Rates*.\" Econometrica, vol. 53, no. 2, 1985, pp. 385-407. The Econometric Society.\n",
    "\n",
    "Cox, John C., et al. \"*An Intertemporal General Equilibrium Model of Asset Prices*.\" Econometrica: Journal of the Econometric Society, 1985, pp. 363-384.\n",
    "\n",
    "Glasserman, Paul. \"*Monte Carlo Methods in Financial Engineering. Springer*.\", 2004.\n",
    "\n",
    "Grant, Kenneth L. \"*Quantitative Financial Analytics: The Path to Investment Profits*\". McGraw-Hill, 2015.\n",
    "\n",
    "Heston, Steven L. *A Closed-Form Solution for Options with Stochastic Volatility with Applications to Bond and Currency Options*.\" Review of Financial Studies, vol. 6, no. 2, 1993, pp. 327-343.\n",
    "\n",
    "Lewis, Alan A. “*A Simple Option Formula for General Jump-Diffusion and Other Exponential Levy Processes*.” Envision Financial Systems and OptionCity.net, 2001, pp. 1-24\n",
    "\n",
    "Merton, R. C. “*Option Pricing When Underlying Stock Returns Are Discontinuous*.” Journal of Financial Economics, vol. 3, no. 1-2, 1976, pp. 125-144\n"
   ]
  }
 ],
 "metadata": {
  "colab": {
   "provenance": []
  },
  "kernelspec": {
   "display_name": "Python 3 (ipykernel)",
   "language": "python",
   "name": "python3"
  },
  "language_info": {
   "codemirror_mode": {
    "name": "ipython",
    "version": 3
   },
   "file_extension": ".py",
   "mimetype": "text/x-python",
   "name": "python",
   "nbconvert_exporter": "python",
   "pygments_lexer": "ipython3",
   "version": "3.9.12"
  }
 },
 "nbformat": 4,
 "nbformat_minor": 1
}
